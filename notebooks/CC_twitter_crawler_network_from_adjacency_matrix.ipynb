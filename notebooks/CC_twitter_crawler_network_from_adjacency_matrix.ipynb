{
 "cells": [
  {
   "cell_type": "code",
   "execution_count": 1,
   "metadata": {},
   "outputs": [],
   "source": [
    "import tweepy\n",
    "from decouple import config"
   ]
  },
  {
   "cell_type": "code",
   "execution_count": 2,
   "metadata": {},
   "outputs": [],
   "source": [
    "TWITTER_AUTH = tweepy.OAuthHandler(config('TWITTER_CONSUMER_KEY'),config('TWITTER_CONSUMER_SECRET'))\n",
    "\n",
    "TWITTER_AUTH.set_access_token(config('TWITTER_ACCESS_TOKEN'),config('TWITTER_ACCESS_TOKEN_SECRET'))\n",
    "\n",
    "TWITTER = tweepy.API(TWITTER_AUTH)"
   ]
  },
  {
   "cell_type": "code",
   "execution_count": 3,
   "metadata": {},
   "outputs": [],
   "source": [
    "import re\n",
    "from collections import Counter"
   ]
  },
  {
   "cell_type": "code",
   "execution_count": 4,
   "metadata": {},
   "outputs": [],
   "source": [
    "def check_num_tweets(search):\n",
    "    twitter_user = TWITTER.get_user(search)\n",
    "    tweets = twitter_user.timeline(\n",
    "                count=2000,\n",
    "                exclude_replies=False,\n",
    "                include_rts=True,\n",
    "                tweet_mode='extended'\n",
    "    )\n",
    "    return tweets"
   ]
  },
  {
   "cell_type": "code",
   "execution_count": 5,
   "metadata": {},
   "outputs": [],
   "source": [
    "t = check_num_tweets(\"webdevmason\")"
   ]
  },
  {
   "cell_type": "code",
   "execution_count": 6,
   "metadata": {},
   "outputs": [
    {
     "data": {
      "text/plain": [
       "200"
      ]
     },
     "execution_count": 6,
     "metadata": {},
     "output_type": "execute_result"
    }
   ],
   "source": [
    "len(t)"
   ]
  },
  {
   "cell_type": "code",
   "execution_count": 7,
   "metadata": {},
   "outputs": [],
   "source": [
    "def get_first_user_interactions(search):\n",
    "    twitter_user = TWITTER.get_user(search)\n",
    "    tweets = twitter_user.timeline(\n",
    "                count=200,\n",
    "                exclude_replies=False,\n",
    "                include_rts=True,\n",
    "                tweet_mode='extended'\n",
    "    )\n",
    "    b = [ i.full_text for i in tweets ]\n",
    "    b = \" \".join(b)\n",
    "    b = b.lower()\n",
    "    b = b.replace(search, \"\")\n",
    "    interactions = re.findall(r'(?<=^|(?<=[^a-zA-Z0-9-_\\.]))@([A-Za-z]+[A-Za-z0-9-_]+)',b)\n",
    "    #counter returns an object with a count for each account\n",
    "    interactions = [ i[0] for i in Counter(interactions).most_common(10) ]\n",
    "    interactions.append(search)\n",
    "    return interactions\n"
   ]
  },
  {
   "cell_type": "code",
   "execution_count": 8,
   "metadata": {},
   "outputs": [],
   "source": [
    "a = get_first_user_interactions(\"webdevmason\")"
   ]
  },
  {
   "cell_type": "code",
   "execution_count": null,
   "metadata": {},
   "outputs": [],
   "source": []
  },
  {
   "cell_type": "code",
   "execution_count": 9,
   "metadata": {},
   "outputs": [
    {
     "data": {
      "text/plain": [
       "['kevinsimler',\n",
       " 'daviddeutschoxf',\n",
       " 'paulg',\n",
       " 'spakhm',\n",
       " 'homsit',\n",
       " 'joefyhrceesay',\n",
       " 'austen',\n",
       " 'andy_matuschak',\n",
       " 'tristanharris',\n",
       " 'kingofhype',\n",
       " 'webdevmason']"
      ]
     },
     "execution_count": 9,
     "metadata": {},
     "output_type": "execute_result"
    }
   ],
   "source": [
    "a"
   ]
  },
  {
   "cell_type": "code",
   "execution_count": 10,
   "metadata": {},
   "outputs": [],
   "source": [
    "first = Counter(a).most_common(10)"
   ]
  },
  {
   "cell_type": "code",
   "execution_count": 11,
   "metadata": {},
   "outputs": [
    {
     "data": {
      "text/plain": [
       "[('kevinsimler', 1),\n",
       " ('daviddeutschoxf', 1),\n",
       " ('paulg', 1),\n",
       " ('spakhm', 1),\n",
       " ('homsit', 1),\n",
       " ('joefyhrceesay', 1),\n",
       " ('austen', 1),\n",
       " ('andy_matuschak', 1),\n",
       " ('tristanharris', 1),\n",
       " ('kingofhype', 1)]"
      ]
     },
     "execution_count": 11,
     "metadata": {},
     "output_type": "execute_result"
    }
   ],
   "source": [
    "first"
   ]
  },
  {
   "cell_type": "code",
   "execution_count": 12,
   "metadata": {},
   "outputs": [],
   "source": [
    "def get_first_user_connections(search):\n",
    "    twitter_user = TWITTER.get_user(search)\n",
    "    tweets = twitter_user.timeline(\n",
    "                count=1000,\n",
    "                exclude_replies=False,\n",
    "                include_rts=True,\n",
    "                tweet_mode='extended'\n",
    "    )\n",
    "    b = [ i.full_text for i in tweets ]\n",
    "    b = \" \".join(b)\n",
    "    b = b.lower()\n",
    "    b = b.replace(search, \"\")\n",
    "    interactions = re.findall(r'(?<=^|(?<=[^a-zA-Z0-9-_\\.]))@([A-Za-z]+[A-Za-z0-9-_]+)',b)\n",
    "    interactions = \" \".join(interactions)\n",
    "    interactions_list.append(interactions)\n",
    "    index.append(search)\n",
    "    return interactions"
   ]
  },
  {
   "cell_type": "code",
   "execution_count": 13,
   "metadata": {},
   "outputs": [
    {
     "data": {
      "text/plain": [
       "list"
      ]
     },
     "execution_count": 13,
     "metadata": {},
     "output_type": "execute_result"
    }
   ],
   "source": [
    "type(first)"
   ]
  },
  {
   "cell_type": "code",
   "execution_count": 14,
   "metadata": {},
   "outputs": [],
   "source": [
    "interactions_list = []\n",
    "index = []\n",
    "get_first_user_connections(\"webdevmason\")\n",
    "for i in range(len(a)):\n",
    "    try:\n",
    "        get_first_user_connections(a[i][0])\n",
    "    except:\n",
    "        pass"
   ]
  },
  {
   "cell_type": "code",
   "execution_count": 15,
   "metadata": {},
   "outputs": [],
   "source": [
    "from sklearn.feature_extraction.text import CountVectorizer\n",
    "corpus = interactions_list\n",
    "vectorizer = CountVectorizer(min_df=2)\n",
    "X = vectorizer.fit_transform(corpus)"
   ]
  },
  {
   "cell_type": "code",
   "execution_count": 16,
   "metadata": {},
   "outputs": [],
   "source": [
    "import numpy as np"
   ]
  },
  {
   "cell_type": "code",
   "execution_count": 17,
   "metadata": {},
   "outputs": [
    {
     "ename": "NetworkXError",
     "evalue": "Input is not a correct numpy matrix or array.",
     "output_type": "error",
     "traceback": [
      "\u001b[1;31m---------------------------------------------------------------------------\u001b[0m",
      "\u001b[1;31mNetworkXError\u001b[0m                             Traceback (most recent call last)",
      "\u001b[1;32m~\\Anaconda3\\lib\\site-packages\\networkx\\convert.py\u001b[0m in \u001b[0;36mto_networkx_graph\u001b[1;34m(data, create_using, multigraph_input)\u001b[0m\n\u001b[0;32m    138\u001b[0m             \u001b[1;32mtry\u001b[0m\u001b[1;33m:\u001b[0m\u001b[1;33m\u001b[0m\u001b[0m\n\u001b[1;32m--> 139\u001b[1;33m                 \u001b[1;32mreturn\u001b[0m \u001b[0mnx\u001b[0m\u001b[1;33m.\u001b[0m\u001b[0mfrom_numpy_matrix\u001b[0m\u001b[1;33m(\u001b[0m\u001b[0mdata\u001b[0m\u001b[1;33m,\u001b[0m \u001b[0mcreate_using\u001b[0m\u001b[1;33m=\u001b[0m\u001b[0mcreate_using\u001b[0m\u001b[1;33m)\u001b[0m\u001b[1;33m\u001b[0m\u001b[0m\n\u001b[0m\u001b[0;32m    140\u001b[0m             \u001b[1;32mexcept\u001b[0m\u001b[1;33m:\u001b[0m\u001b[1;33m\u001b[0m\u001b[0m\n",
      "\u001b[1;32m~\\Anaconda3\\lib\\site-packages\\networkx\\convert_matrix.py\u001b[0m in \u001b[0;36mfrom_numpy_matrix\u001b[1;34m(A, parallel_edges, create_using)\u001b[0m\n\u001b[0;32m    552\u001b[0m         raise nx.NetworkXError(\"Adjacency matrix is not square.\",\n\u001b[1;32m--> 553\u001b[1;33m                                \"nx,ny=%s\" % (A.shape,))\n\u001b[0m\u001b[0;32m    554\u001b[0m     \u001b[0mdt\u001b[0m \u001b[1;33m=\u001b[0m \u001b[0mA\u001b[0m\u001b[1;33m.\u001b[0m\u001b[0mdtype\u001b[0m\u001b[1;33m\u001b[0m\u001b[0m\n",
      "\u001b[1;31mNetworkXError\u001b[0m: ('Adjacency matrix is not square.', 'nx,ny=(10, 252)')",
      "\nDuring handling of the above exception, another exception occurred:\n",
      "\u001b[1;31mNetworkXError\u001b[0m                             Traceback (most recent call last)",
      "\u001b[1;32m<ipython-input-17-65a7f1ae9cba>\u001b[0m in \u001b[0;36m<module>\u001b[1;34m()\u001b[0m\n\u001b[0;32m      1\u001b[0m \u001b[1;32mimport\u001b[0m \u001b[0mnetworkx\u001b[0m \u001b[1;32mas\u001b[0m \u001b[0mnx\u001b[0m\u001b[1;33m\u001b[0m\u001b[0m\n\u001b[0;32m      2\u001b[0m \u001b[1;32mimport\u001b[0m \u001b[0mmatplotlib\u001b[0m\u001b[1;33m.\u001b[0m\u001b[0mpyplot\u001b[0m \u001b[1;32mas\u001b[0m \u001b[0mplt\u001b[0m\u001b[1;33m\u001b[0m\u001b[0m\n\u001b[1;32m----> 3\u001b[1;33m \u001b[0mDG\u001b[0m \u001b[1;33m=\u001b[0m \u001b[0mnx\u001b[0m\u001b[1;33m.\u001b[0m\u001b[0mto_networkx_graph\u001b[0m\u001b[1;33m(\u001b[0m\u001b[0mX\u001b[0m\u001b[1;33m.\u001b[0m\u001b[0mtoarray\u001b[0m\u001b[1;33m(\u001b[0m\u001b[1;33m)\u001b[0m\u001b[1;33m,\u001b[0m \u001b[0mcreate_using\u001b[0m\u001b[1;33m=\u001b[0m\u001b[0mnx\u001b[0m\u001b[1;33m.\u001b[0m\u001b[0mDiGraph\u001b[0m\u001b[1;33m)\u001b[0m\u001b[1;33m\u001b[0m\u001b[0m\n\u001b[0m\u001b[0;32m      4\u001b[0m \u001b[1;33m\u001b[0m\u001b[0m\n",
      "\u001b[1;32m~\\Anaconda3\\lib\\site-packages\\networkx\\convert.py\u001b[0m in \u001b[0;36mto_networkx_graph\u001b[1;34m(data, create_using, multigraph_input)\u001b[0m\n\u001b[0;32m    140\u001b[0m             \u001b[1;32mexcept\u001b[0m\u001b[1;33m:\u001b[0m\u001b[1;33m\u001b[0m\u001b[0m\n\u001b[0;32m    141\u001b[0m                 raise nx.NetworkXError(\n\u001b[1;32m--> 142\u001b[1;33m                     \"Input is not a correct numpy matrix or array.\")\n\u001b[0m\u001b[0;32m    143\u001b[0m     \u001b[1;32mexcept\u001b[0m \u001b[0mImportError\u001b[0m\u001b[1;33m:\u001b[0m\u001b[1;33m\u001b[0m\u001b[0m\n\u001b[0;32m    144\u001b[0m         warnings.warn('numpy not found, skipping conversion test.',\n",
      "\u001b[1;31mNetworkXError\u001b[0m: Input is not a correct numpy matrix or array."
     ]
    }
   ],
   "source": [
    "import networkx as nx\n",
    "\n",
    "\n"
   ]
  },
  {
   "cell_type": "code",
   "execution_count": null,
   "metadata": {},
   "outputs": [],
   "source": [
    "test_a = get_first_user_connections(\"webdevmason\")"
   ]
  },
  {
   "cell_type": "code",
   "execution_count": null,
   "metadata": {},
   "outputs": [],
   "source": [
    "sorted(str.split(test_a, \" \"))"
   ]
  },
  {
   "cell_type": "code",
   "execution_count": null,
   "metadata": {},
   "outputs": [],
   "source": [
    "edges = nx.to_pandas_edgelist(DG)"
   ]
  },
  {
   "cell_type": "code",
   "execution_count": null,
   "metadata": {},
   "outputs": [],
   "source": []
  },
  {
   "cell_type": "code",
   "execution_count": null,
   "metadata": {},
   "outputs": [],
   "source": [
    "nx.draw_kamada_kawai(DG,node_size=20)"
   ]
  },
  {
   "cell_type": "code",
   "execution_count": null,
   "metadata": {},
   "outputs": [],
   "source": [
    "fig = plt.figure(figsize=(8,8))\n",
    "nx.draw_spectral(DG,node_size=20)\n",
    "plt.show()"
   ]
  },
  {
   "cell_type": "markdown",
   "metadata": {},
   "source": [
    "## trying k-nearest neighbors"
   ]
  },
  {
   "cell_type": "code",
   "execution_count": null,
   "metadata": {},
   "outputs": [],
   "source": [
    "from sklearn.neighbors import NearestNeighbors"
   ]
  },
  {
   "cell_type": "code",
   "execution_count": null,
   "metadata": {},
   "outputs": [],
   "source": [
    "sl_nodes = nx.spectral_layout(DG)"
   ]
  },
  {
   "cell_type": "code",
   "execution_count": null,
   "metadata": {},
   "outputs": [],
   "source": [
    "sl_nodes[\"alaskaair\"]"
   ]
  },
  {
   "cell_type": "code",
   "execution_count": null,
   "metadata": {},
   "outputs": [],
   "source": [
    "sl_nodes"
   ]
  },
  {
   "cell_type": "code",
   "execution_count": null,
   "metadata": {},
   "outputs": [],
   "source": [
    "def get_column_sum(i):\n",
    "    try:\n",
    "        return display_df[i].sum()\n",
    "    except:\n",
    "        return 1"
   ]
  },
  {
   "cell_type": "code",
   "execution_count": null,
   "metadata": {},
   "outputs": [],
   "source": [
    "node_weights = [ get_column_sum(i) for i in list(sl_nodes)]"
   ]
  },
  {
   "cell_type": "code",
   "execution_count": null,
   "metadata": {},
   "outputs": [],
   "source": [
    "node_weights"
   ]
  },
  {
   "cell_type": "code",
   "execution_count": null,
   "metadata": {},
   "outputs": [],
   "source": [
    "neigh = NearestNeighbors(2, 0.4)\n",
    "neigh.fit(sl_nodes) "
   ]
  },
  {
   "cell_type": "markdown",
   "metadata": {},
   "source": [
    "## experimenting with cliques"
   ]
  },
  {
   "cell_type": "code",
   "execution_count": null,
   "metadata": {},
   "outputs": [],
   "source": [
    "from networkx.algorithms.community import k_clique_communities\n",
    "c = list(k_clique_communities(DG, 4))"
   ]
  },
  {
   "cell_type": "markdown",
   "metadata": {},
   "source": [
    "## experimenting with edges and weights"
   ]
  },
  {
   "cell_type": "code",
   "execution_count": null,
   "metadata": {},
   "outputs": [],
   "source": [
    "edges = list(DG.edges.data())\n",
    "\"\"\"edges\": [\n",
    "    {\n",
    "      \"id\": \"e0\",\n",
    "      \"source\": \"n0\",\n",
    "      \"target\": \"n1\"\n",
    "    },\n",
    "    {\n",
    "      \"id\": \"e1\",\n",
    "      \"source\": \"n1\",\n",
    "      \"target\": \"n2\"\n",
    "    },\n",
    "    {\n",
    "      \"id\": \"e2\",\n",
    "      \"source\": \"n2\",\n",
    "      \"target\": \"n0\"\n",
    "    }\n",
    "  ]\n",
    "}\"\"\""
   ]
  },
  {
   "cell_type": "code",
   "execution_count": null,
   "metadata": {},
   "outputs": [],
   "source": [
    "#edges_dict = [ {\"source\": edge[0],\"target\":edge[1], \"weight\" : edge[2][\"weight\"]} for edge in edges]\n",
    "edges_dict = [ {\"id\": edge[0]+\" \"+ edge[1],\"source\": edge[0],\"target\":edge[1]} for edge in edges]"
   ]
  },
  {
   "cell_type": "code",
   "execution_count": null,
   "metadata": {},
   "outputs": [],
   "source": [
    "edge_json = { \"edges\" : edges_dict}"
   ]
  },
  {
   "cell_type": "code",
   "execution_count": null,
   "metadata": {},
   "outputs": [],
   "source": [
    "edge_json"
   ]
  },
  {
   "cell_type": "code",
   "execution_count": null,
   "metadata": {},
   "outputs": [],
   "source": [
    "rows = [edges_dict[i] for i in range(0,len(edges_dict)) if\n",
    "        (edges_dict[i][\"target\"]== \"visakanv\")|\n",
    "        (edges_dict[i][\"target\"]== \"paulg\")|\n",
    "        (edges_dict[i][\"target\"]==\"austen\") ]\n"
   ]
  },
  {
   "cell_type": "code",
   "execution_count": null,
   "metadata": {},
   "outputs": [],
   "source": [
    "rows2 = sorted(rows, key=lambda k: k[\"weight\"],reverse=True)"
   ]
  },
  {
   "cell_type": "code",
   "execution_count": null,
   "metadata": {},
   "outputs": [],
   "source": [
    "rows2"
   ]
  },
  {
   "cell_type": "code",
   "execution_count": null,
   "metadata": {},
   "outputs": [],
   "source": [
    "\"\"\"{\n",
    "  \"nodes\": [\n",
    "    {\n",
    "      \"id\": \"n0\",\n",
    "      \"label\": \"A node\",\n",
    "      \"x\": 0,\n",
    "      \"y\": 0,\n",
    "      \"size\": 3\n",
    "    },\n",
    "    {\n",
    "      \"id\": \"n1\",\n",
    "      \"label\": \"Another node\",\n",
    "      \"x\": 3,\n",
    "      \"y\": 1,\n",
    "      \"size\": 2\n",
    "    },\"\"\""
   ]
  },
  {
   "cell_type": "code",
   "execution_count": null,
   "metadata": {},
   "outputs": [],
   "source": [
    "nodes_dict = [ {\"id\": i, \"label\": i, \"x\": sl_nodes[i][0], \"y\":sl_nodes[i][1] } for i in list(sl_nodes)]"
   ]
  },
  {
   "cell_type": "code",
   "execution_count": null,
   "metadata": {},
   "outputs": [],
   "source": [
    "nodes_dict"
   ]
  },
  {
   "cell_type": "code",
   "execution_count": null,
   "metadata": {},
   "outputs": [],
   "source": [
    "data = (nodes_json, edge_json)"
   ]
  },
  {
   "cell_type": "code",
   "execution_count": null,
   "metadata": {},
   "outputs": [],
   "source": [
    "import json"
   ]
  },
  {
   "cell_type": "code",
   "execution_count": null,
   "metadata": {},
   "outputs": [],
   "source": [
    "with open('data.json', 'w') as outfile:\n",
    "    json.dump(nodes_dict, outfile)"
   ]
  },
  {
   "cell_type": "code",
   "execution_count": null,
   "metadata": {},
   "outputs": [],
   "source": [
    "edges[0][2][\"weight\"]"
   ]
  },
  {
   "cell_type": "code",
   "execution_count": null,
   "metadata": {},
   "outputs": [],
   "source": [
    "sl_nodes[edges[0][0]][0]\n",
    "sl_nodes[edges[0][0]][1]"
   ]
  },
  {
   "cell_type": "code",
   "execution_count": null,
   "metadata": {},
   "outputs": [],
   "source": [
    "node_list = list(sl_nodes)\n",
    "node_x = [sl_nodes[i][0] for i in node_list]\n",
    "node_y = [sl_nodes[i][1] for i in node_list]"
   ]
  },
  {
   "cell_type": "code",
   "execution_count": null,
   "metadata": {},
   "outputs": [],
   "source": []
  },
  {
   "cell_type": "code",
   "execution_count": null,
   "metadata": {},
   "outputs": [],
   "source": [
    "sl_edges_x = []\n",
    "sl_edges_y = []\n",
    "sl_edges_weight = []\n",
    "for i in range(len(edges)):\n",
    "    sl_edges_x.append(sl_nodes[edges[i][0]][0])\n",
    "    sl_edges_y.append(sl_nodes[edges[i][0]][1])\n",
    "    sl_edges_x.append(sl_nodes[edges[i][1]][0])\n",
    "    sl_edges_y.append(sl_nodes[edges[i][1]][1])\n",
    "    sl_edges_weight.append(edges[i][2][\"weight\"])\n",
    "    sl_edges_weight.append(edges[i][2][\"weight\"])\n",
    "    sl_edges_x.append(\"\")\n",
    "    sl_edges_y.append(\"\")\n",
    "    sl_edges_weight.append(\"\")"
   ]
  },
  {
   "cell_type": "code",
   "execution_count": null,
   "metadata": {},
   "outputs": [],
   "source": [
    "sl_edges_x"
   ]
  },
  {
   "cell_type": "markdown",
   "metadata": {},
   "source": [
    "## experimenting with plotting json, js, etc"
   ]
  },
  {
   "cell_type": "code",
   "execution_count": null,
   "metadata": {},
   "outputs": [],
   "source": [
    "import json"
   ]
  },
  {
   "cell_type": "code",
   "execution_count": null,
   "metadata": {},
   "outputs": [],
   "source": [
    "x = json.dumps(sl_edges_x)\n",
    "y = json.dumps(sl_edges_y)\n",
    "weights = json.dumps(sl_edges_weight)"
   ]
  },
  {
   "cell_type": "code",
   "execution_count": null,
   "metadata": {},
   "outputs": [],
   "source": [
    "print(x)"
   ]
  },
  {
   "cell_type": "code",
   "execution_count": null,
   "metadata": {},
   "outputs": [],
   "source": [
    "with open('x.json', 'w') as outfile:\n",
    "    json.dump(x, outfile)\n",
    "with open('y.json', 'w') as outfile:\n",
    "    json.dump(y, outfile)\n",
    "with open('weights.json', 'w') as outfile:\n",
    "    json.dump(weights, outfile)"
   ]
  },
  {
   "cell_type": "code",
   "execution_count": null,
   "metadata": {},
   "outputs": [],
   "source": [
    "#!pip install pixiedust --upgrade\n",
    "#!pip install pixiedust_node --upgrade"
   ]
  },
  {
   "cell_type": "code",
   "execution_count": null,
   "metadata": {},
   "outputs": [],
   "source": [
    "#import pixiedust_node"
   ]
  },
  {
   "cell_type": "code",
   "execution_count": null,
   "metadata": {},
   "outputs": [],
   "source": []
  },
  {
   "cell_type": "code",
   "execution_count": null,
   "metadata": {},
   "outputs": [],
   "source": [
    "%%node\n",
    "var d_x = fs.readFileSync(\"E:/ds/labs12-twitter-blocker-DS/x.json\");\n",
    "var d_y = fs.readFileSync(\"E:/ds/labs12-twitter-blocker-DS/y.json\");\n",
    "var d_w = fs.readFileSync(\"E:/ds/labs12-twitter-blocker-DS/weights.json\");\n",
    "console.log(d_x)"
   ]
  },
  {
   "cell_type": "code",
   "execution_count": null,
   "metadata": {},
   "outputs": [],
   "source": []
  },
  {
   "cell_type": "code",
   "execution_count": null,
   "metadata": {},
   "outputs": [],
   "source": []
  },
  {
   "cell_type": "code",
   "execution_count": null,
   "metadata": {},
   "outputs": [],
   "source": []
  },
  {
   "cell_type": "code",
   "execution_count": null,
   "metadata": {},
   "outputs": [],
   "source": []
  },
  {
   "cell_type": "code",
   "execution_count": null,
   "metadata": {},
   "outputs": [],
   "source": []
  },
  {
   "cell_type": "code",
   "execution_count": null,
   "metadata": {},
   "outputs": [],
   "source": []
  },
  {
   "cell_type": "code",
   "execution_count": null,
   "metadata": {},
   "outputs": [],
   "source": []
  },
  {
   "cell_type": "code",
   "execution_count": null,
   "metadata": {},
   "outputs": [],
   "source": []
  },
  {
   "cell_type": "markdown",
   "metadata": {},
   "source": [
    "## Matrix Multiplication\n",
    "Really don't need the graph library "
   ]
  },
  {
   "cell_type": "code",
   "execution_count": null,
   "metadata": {},
   "outputs": [],
   "source": [
    "x2 = X @ X.T\n",
    "pd.DataFrame(x2.toarray(), columns = index, index = index)"
   ]
  },
  {
   "cell_type": "code",
   "execution_count": null,
   "metadata": {},
   "outputs": [],
   "source": []
  },
  {
   "cell_type": "code",
   "execution_count": null,
   "metadata": {},
   "outputs": [],
   "source": []
  }
 ],
 "metadata": {
  "kernelspec": {
   "display_name": "Python 3",
   "language": "python",
   "name": "python3"
  },
  "language_info": {
   "codemirror_mode": {
    "name": "ipython",
    "version": 3
   },
   "file_extension": ".py",
   "mimetype": "text/x-python",
   "name": "python",
   "nbconvert_exporter": "python",
   "pygments_lexer": "ipython3",
   "version": "3.6.5"
  }
 },
 "nbformat": 4,
 "nbformat_minor": 2
}
