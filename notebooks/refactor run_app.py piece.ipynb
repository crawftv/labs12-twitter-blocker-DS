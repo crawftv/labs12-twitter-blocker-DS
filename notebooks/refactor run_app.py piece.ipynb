{
 "cells": [
  {
   "cell_type": "code",
   "execution_count": 1,
   "metadata": {},
   "outputs": [],
   "source": [
    "%load_ext blackcellmagic"
   ]
  },
  {
   "cell_type": "code",
   "execution_count": 4,
   "metadata": {},
   "outputs": [
    {
     "ename": "NameError",
     "evalue": "name 'predict_response_dict' is not defined",
     "output_type": "error",
     "traceback": [
      "\u001b[1;31m---------------------------------------------------------------------------\u001b[0m",
      "\u001b[1;31mNameError\u001b[0m                                 Traceback (most recent call last)",
      "\u001b[1;32m<ipython-input-4-c1d6a214a1ea>\u001b[0m in \u001b[0;36m<module>\u001b[1;34m\u001b[0m\n\u001b[0;32m      1\u001b[0m \u001b[0mresponse_list\u001b[0m \u001b[1;33m=\u001b[0m \u001b[1;33m[\u001b[0m\u001b[1;33m]\u001b[0m\u001b[1;33m\u001b[0m\u001b[1;33m\u001b[0m\u001b[0m\n\u001b[0;32m      2\u001b[0m \u001b[1;33m\u001b[0m\u001b[0m\n\u001b[1;32m----> 3\u001b[1;33m \u001b[1;32mfor\u001b[0m \u001b[0mresponse\u001b[0m \u001b[1;32min\u001b[0m \u001b[0mpredict_response_dict\u001b[0m\u001b[1;33m[\u001b[0m\u001b[1;34m'probabilities'\u001b[0m\u001b[1;33m]\u001b[0m\u001b[1;33m:\u001b[0m\u001b[1;33m\u001b[0m\u001b[1;33m\u001b[0m\u001b[0m\n\u001b[0m\u001b[0;32m      4\u001b[0m     format_dict = {\n\u001b[0;32m      5\u001b[0m       \u001b[1;34m'toxic'\u001b[0m\u001b[1;33m:\u001b[0m\u001b[0mresponse\u001b[0m\u001b[1;33m[\u001b[0m\u001b[1;36m0\u001b[0m\u001b[1;33m]\u001b[0m\u001b[1;33m,\u001b[0m\u001b[1;33m\u001b[0m\u001b[1;33m\u001b[0m\u001b[0m\n",
      "\u001b[1;31mNameError\u001b[0m: name 'predict_response_dict' is not defined"
     ]
    }
   ],
   "source": [
    "response_list = []\n",
    "\n",
    "for response in predict_response_dict['probabilities']:\n",
    "    format_dict = {\n",
    "      'toxic':response[0],\n",
    "      'severe_toxic':response[1] ,\n",
    "      'obscene':response[2],\n",
    "      'threat':response[3],\n",
    "      'insult':response[4],\n",
    "      'identity_hate':response[5]\n",
    "    }\n"
   ]
  },
  {
   "cell_type": "code",
   "execution_count": null,
   "metadata": {},
   "outputs": [],
   "source": [
    "This:\n",
    "# response_list = []\n",
    "\n",
    "# for response in predict_response_dict['probabilities']:\n",
    "#     format_dict = {\n",
    "#       'toxic':response[0],\n",
    "#       'severe_toxic':response[1] ,\n",
    "#       'obscene':response[2],\n",
    "#       'threat':response[3],\n",
    "#       'insult':response[4],\n",
    "#       'identity_hate':response[5]\n",
    "#     }\n",
    "to this:\n",
    "def format_dict(response):\n",
    "    format_dict = {\n",
    "        \"toxic\": round(response[0], 4),\n",
    "        \"severe_toxic\": round(response[1], 4),\n",
    "        \"obscene\": round(response[2], 4),\n",
    "        \"threat\": round(response[3], 4),\n",
    "        \"insult\": round(response[4], 4),\n",
    "        \"identity_hate\": round(response[5], 4),\n",
    "    }\n",
    "\n",
    "\n",
    "response_list = [\n",
    "    format_dict(response) for response in predict_response_dict[\"probabilities\"]\n",
    "]"
   ]
  },
  {
   "cell_type": "code",
   "execution_count": 7,
   "metadata": {},
   "outputs": [],
   "source": [
    "a = 0.888888888888"
   ]
  },
  {
   "cell_type": "code",
   "execution_count": 10,
   "metadata": {},
   "outputs": [
    {
     "data": {
      "text/plain": [
       "0.8889"
      ]
     },
     "execution_count": 10,
     "metadata": {},
     "output_type": "execute_result"
    }
   ],
   "source": [
    "round(a,4)"
   ]
  },
  {
   "cell_type": "code",
   "execution_count": null,
   "metadata": {},
   "outputs": [],
   "source": []
  }
 ],
 "metadata": {
  "kernelspec": {
   "display_name": "Python 3",
   "language": "python",
   "name": "python3"
  },
  "language_info": {
   "codemirror_mode": {
    "name": "ipython",
    "version": 3
   },
   "file_extension": ".py",
   "mimetype": "text/x-python",
   "name": "python",
   "nbconvert_exporter": "python",
   "pygments_lexer": "ipython3",
   "version": "3.7.3"
  }
 },
 "nbformat": 4,
 "nbformat_minor": 2
}
