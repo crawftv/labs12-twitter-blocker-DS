{
 "cells": [
  {
   "cell_type": "code",
   "execution_count": 5,
   "metadata": {},
   "outputs": [],
   "source": [
    "from flask import Flask, request, render_template, jsonify, json\n",
    "from decouple import config\n",
    "from flask_cors import CORS\n",
    "import numpy as np\n",
    "import networkx as nx\n",
    "import tweepy\n",
    "from sklearn.feature_extraction.text import CountVectorizer\n",
    "import pandas as pd\n",
    "import re\n",
    "from collections import Counter\n",
    "import asyncio\n",
    "from concurrent.futures import ThreadPoolExecutor\n",
    "import requests\n",
    "import nest_asyncio\n",
    "nest_asyncio.apply()\n",
    "\n",
    "#set up twitter environment\n",
    "TWITTER_AUTH =tweepy.OAuthHandler(config('TWITTER_CONSUMER_KEY'),config('TWITTER_CONSUMER_SECRET'))\n",
    "TWITTER_AUTH.set_access_token(config('TWITTER_ACCESS_TOKEN'),config('TWITTER_ACCESS_TOKEN_SECRET'))\n",
    "TWITTER = tweepy.API(TWITTER_AUTH)"
   ]
  },
  {
   "cell_type": "code",
   "execution_count": 55,
   "metadata": {},
   "outputs": [],
   "source": [
    "def get_first_user_timeline(search,index):\n",
    "    timeline = TWITTER.user_timeline(\n",
    "                    id=search,\n",
    "                    count =200,\n",
    "                    exclude_replies = False,\n",
    "                    include_rts=True,\n",
    "                    tweet_mode='extended'\n",
    "                    )\n",
    "    index.append([user_mentions[\"screen_name\"] for um_list in \n",
    "             [ tweet.entities[\"user_mentions\"] for tweet in timeline]\n",
    "             for user_mentions in um_list ])\n",
    "\n",
    "def get_first_user_favorites(search,index):\n",
    "    timeline = TWITTER.favorites(\n",
    "                    id=search,\n",
    "                    count =200,\n",
    "                    exclude_replies = False,\n",
    "                    include_rts=True,\n",
    "                    tweet_mode='extended'\n",
    "                    )\n",
    "    index.append([user_mentions[\"screen_name\"] for um_list in \n",
    "             [ tweet.entities[\"user_mentions\"] for tweet in timeline]\n",
    "             for user_mentions in um_list ])\n"
   ]
  },
  {
   "cell_type": "code",
   "execution_count": null,
   "metadata": {},
   "outputs": [],
   "source": [
    "import asyncio\n",
    "import requests\n",
    "\n",
    "async def main():\n",
    "    loop = asyncio.get_event_loop()\n",
    "    futures = [\n",
    "        loop.run_in_executor(\n",
    "            None, \n",
    "            requests.get, \n",
    "            'http://example.org/'\n",
    "        )\n",
    "        for i in range(20)\n",
    "    ]\n",
    "    for response in await asyncio.gather(*futures):\n",
    "        pass\n",
    "\n",
    "loop = asyncio.get_event_loop()\n",
    "loop.run_until_complete(main())"
   ]
  },
  {
   "cell_type": "code",
   "execution_count": null,
   "metadata": {},
   "outputs": [],
   "source": []
  }
 ],
 "metadata": {
  "kernelspec": {
   "display_name": "Python 3",
   "language": "python",
   "name": "python3"
  },
  "language_info": {
   "codemirror_mode": {
    "name": "ipython",
    "version": 3
   },
   "file_extension": ".py",
   "mimetype": "text/x-python",
   "name": "python",
   "nbconvert_exporter": "python",
   "pygments_lexer": "ipython3",
   "version": "3.7.3"
  }
 },
 "nbformat": 4,
 "nbformat_minor": 2
}
