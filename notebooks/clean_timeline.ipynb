{
 "cells": [
  {
   "cell_type": "code",
   "execution_count": 20,
   "metadata": {},
   "outputs": [],
   "source": [
    "import tweepy\n",
    "import re\n",
    "from decouple import config\n",
    "import json"
   ]
  },
  {
   "cell_type": "code",
   "execution_count": 6,
   "metadata": {},
   "outputs": [],
   "source": [
    "TWITTER_AUTH = tweepy.OAuthHandler(config('TWITTER_CONSUMER_KEY'),config('TWITTER_CONSUMER_SECRET'))\n",
    "\n",
    "TWITTER_AUTH.set_access_token(config('TWITTER_ACCESS_TOKEN'),config('TWITTER_ACCESS_TOKEN_SECRET'))\n",
    "\n",
    "TWITTER = tweepy.API(TWITTER_AUTH)"
   ]
  },
  {
   "cell_type": "code",
   "execution_count": 31,
   "metadata": {},
   "outputs": [],
   "source": [
    "def process_tweet(tweet):\n",
    "    #strip usernames\n",
    "    tweet = re.sub(r'(?<=^|(?<=[^a-zA-Z0-9-_\\.]))@([A-Za-z]+[A-Za-z0-9-_]+)','',tweet)\n",
    "    #strip newlines and unicode characters that aren't formatted\n",
    "    tweet = re.sub(r'\\n|&gt;|RT :','',tweet)\n",
    "    #strip twitter urls from tweets\n",
    "    tweet = re.sub(r'(?<=^|(?<=[^a-zA-Z0-9-_\\.]))https://t.co/([A-Za-z0-9-_,\\']+)','',tweet)\n",
    "    #Remove emojis\n",
    "    RE_EMOJI = re.compile('[\\U00010000-\\U0010ffff]', flags=re.UNICODE)\n",
    "    tweet = RE_EMOJI.sub(r'', tweet)\n",
    "    return tweet.strip()\n",
    "\n",
    "def clean_timeline(TWITTER_ACCESS_TOKEN,TWITTER_ACCESS_TOKEN_SECRET):\n",
    "    # Create Twitter Connection\n",
    "    twitter_auth = tweepy.OAuthHandler(config('TWITTER_CONSUMER_KEY'),config('TWITTER_CONSUMER_SECRET'))\n",
    "    access_token = TWITTER_ACCESS_TOKEN\n",
    "    access_token_secret = TWITTER_ACCESS_TOKEN_SECRET\n",
    "    twitter_auth.set_access_token(access_token, access_token_secret)\n",
    "    global TWITTER\n",
    "    TWITTER = tweepy.API(twitter_auth)\n",
    "    \n",
    "    try:\n",
    "        home_timeline = TWITTER.home_timeline(count=200,\n",
    "                                         tweet_mode='extended',\n",
    "                                         exlude_rts=False)\n",
    "        timeline = [{\"tweet\": \n",
    "                     {\"user_id\": u.user.id,\n",
    "                      \"user_name\" : u.user.name,\n",
    "                      \"tweet\": process_tweet(u.full_text),\n",
    "                      \"tweet_id\" : u.id_str }\n",
    "                    }\n",
    "                   for u in home_timeline]\n",
    "        return json.dumps(timeline)\n",
    "\n",
    "    except tweepy.TweepError:\n",
    "        print(\"tweepy.TweepError\")\n",
    "        \n",
    "    except:\n",
    "        e = sys.exc_info()[0]\n",
    "        print(\"Error: %s\" % e)\n",
    "        \n",
    "        \n",
    "def process_request(request):\n",
    "    \"\"\" Responds to a GET request with \"Hello world!\". Forbids a PUT request.\n",
    "    Args:\n",
    "        request (flask.Request): The request object.\n",
    "        <http://flask.pocoo.org/docs/1.0/api/#flask.Request>\n",
    "    Returns:\n",
    "        The response text, or any set of values that can be turned into a\n",
    "         Response object using `make_response`\n",
    "        <http://flask.pocoo.org/docs/1.0/api/#flask.Flask.make_response>.\n",
    "    \"\"\"\n",
    "    from flask import abort\n",
    "\n",
    "    content_type = request.headers['content-type']\n",
    "    request_json = request.get_json(silent=True)\n",
    "    request_args = request.args\n",
    "\n",
    "    if content_type == 'application/json': \n",
    "        request_json = request.get_json(silent=True)\n",
    "        # TWITTER_ACCESS_TOKEN check/set/error\n",
    "        if request_json and 'TWITTER_ACCESS_TOKEN' in request_json:\n",
    "            TWITTER_ACCESS_TOKEN = request_json['TWITTER_ACCESS_TOKEN']\n",
    "        else:\n",
    "            raise ValueError(\"Missing a 'TWITTER_ACCESS_TOKEN'\")\n",
    "        # TWITTER_ACCESS_TOKEN_SECRET check/set/error\n",
    "        if request_json and 'TWITTER_ACCESS_TOKEN_SECRET' in request_json:\n",
    "            TWITTER_ACCESS_TOKEN_SECRET = request_json['TWITTER_ACCESS_TOKEN_SECRET']\n",
    "        else:\n",
    "            raise ValueError(\"Missing a 'TWITTER_ACCESS_TOKEN_SECRET'\")\n",
    "        \n",
    "        # Call the function for the POST request. \n",
    "        if request.method == 'POST':\n",
    "            return clean_timeline(TWITTER_ACCESS_TOKEN,TWITTER_ACCESS_TOKEN_SECRET)\n",
    "    else:\n",
    "        return abort(405)"
   ]
  },
  {
   "cell_type": "code",
   "execution_count": null,
   "metadata": {},
   "outputs": [],
   "source": []
  },
  {
   "cell_type": "code",
   "execution_count": null,
   "metadata": {},
   "outputs": [],
   "source": []
  },
  {
   "cell_type": "code",
   "execution_count": null,
   "metadata": {},
   "outputs": [],
   "source": []
  }
 ],
 "metadata": {
  "kernelspec": {
   "display_name": "Python 3",
   "language": "python",
   "name": "python3"
  },
  "language_info": {
   "codemirror_mode": {
    "name": "ipython",
    "version": 3
   },
   "file_extension": ".py",
   "mimetype": "text/x-python",
   "name": "python",
   "nbconvert_exporter": "python",
   "pygments_lexer": "ipython3",
   "version": "3.6.5"
  }
 },
 "nbformat": 4,
 "nbformat_minor": 2
}
