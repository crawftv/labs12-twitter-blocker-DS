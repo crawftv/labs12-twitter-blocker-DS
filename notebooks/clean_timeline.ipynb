{
 "cells": [
  {
   "cell_type": "code",
   "execution_count": 6,
   "metadata": {},
   "outputs": [],
   "source": [
    "%load_ext blackcellmagic"
   ]
  },
  {
   "cell_type": "code",
   "execution_count": 7,
   "metadata": {},
   "outputs": [],
   "source": [
    "import tweepy\n",
    "import re\n",
    "from decouple import config\n",
    "import json\n",
    "import requests\n",
    "import sys\n",
    "\n",
    "TWITTER_AUTH = tweepy.OAuthHandler(config('TWITTER_CONSUMER_KEY'),config('TWITTER_CONSUMER_SECRET'))\n",
    "\n",
    "TWITTER_AUTH.set_access_token(config('TWITTER_ACCESS_TOKEN'),config('TWITTER_ACCESS_TOKEN_SECRET'))\n",
    "\n",
    "TWITTER = tweepy.API(TWITTER_AUTH)"
   ]
  },
  {
   "cell_type": "code",
   "execution_count": 8,
   "metadata": {},
   "outputs": [],
   "source": [
    "TWITTER_ACCESS_TOKEN =config('TWITTER_ACCESS_TOKEN')\n",
    "TWITTER_ACCESS_TOKEN_SECRET =config('TWITTER_ACCESS_TOKEN_SECRET')"
   ]
  },
  {
   "cell_type": "markdown",
   "metadata": {},
   "source": [
    "# 32 tweets per bert request"
   ]
  },
  {
   "cell_type": "code",
   "execution_count": 17,
   "metadata": {},
   "outputs": [],
   "source": [
    "import tweepy\n",
    "import re\n",
    "from decouple import config\n",
    "import json\n",
    "import requests\n",
    "import sys\n",
    "\n",
    "\n",
    "def bert_request(timeline):\n",
    "    tweet_list = [tweet[\"tweet\"][\"tweet\"] for tweet in timeline]\n",
    "    data = {\"description\": tweet_list, \"max_seq_length\": 32}\n",
    "    headers = {\"Content-type\": \"application/json\", \"cache-control\": \"no-cache\"}\n",
    "    data = json.dumps(data)\n",
    "    results = requests.post(\"http://35.222.5.199:5000/\", data=data, headers=headers)\n",
    "    # results is a list comprehension of zipping tweet & bert_result lists \n",
    "    # and making two dictionary key,values out of each.\n",
    "    output = {\n",
    "        \"results\": [\n",
    "            {\"tweet\": t, \"bert_result\": r}\n",
    "            for t, r in zip(timeline, results.json()[\"results\"])\n",
    "        ]\n",
    "    }\n",
    "    return output\n",
    "\n",
    "\n",
    "def process_tweet(full_tweet):\n",
    "    tweet = full_tweet.full_text\n",
    "    # strip username\n",
    "    tweet = re.sub(r\"(?<=^|(?<=[^a-zA-Z0-9-_\\.]))@([A-Za-z]+[A-Za-z0-9-_]+)\", \"\", tweet)\n",
    "    # strip newlines and unicode characters that aren't formatted\n",
    "    tweet = re.sub(r\"\\n|&gt;|RT :\", \"\", tweet)\n",
    "    # strip twitter urls from tweets\n",
    "    tweet = re.sub(\n",
    "        r\"(?<=^|(?<=[^a-zA-Z0-9-_\\.]))https://t.co/([A-Za-z0-9-_,\\']+)\", \"\", tweet\n",
    "    )\n",
    "    # Remove emojis\n",
    "    RE_EMOJI = re.compile(\"[\\U00010000-\\U0010ffff]\", flags=re.UNICODE)\n",
    "    tweet = RE_EMOJI.sub(r\"\", tweet)\n",
    "    # remove whitespace\n",
    "    tweet = tweet.strip()\n",
    "    # make api request for toxicity analysis\n",
    "\n",
    "    tweet_info = {\n",
    "        \"tweet\": {\n",
    "            \"user_id\": full_tweet.user.id,\n",
    "            \"user_name\": full_tweet.user.name,\n",
    "            \"tweet\": full_tweet.full_text,\n",
    "            \"tweet_id\": full_tweet.id_str,\n",
    "        }\n",
    "    }\n",
    "    return tweet_info\n",
    "\n",
    "\n",
    "def clean_timeline(TWITTER_ACCESS_TOKEN, TWITTER_ACCESS_TOKEN_SECRET):\n",
    "    # Create Twitter Connection\n",
    "    twitter_auth = tweepy.OAuthHandler(\n",
    "        config(\"TWITTER_CONSUMER_KEY\"), config(\"TWITTER_CONSUMER_SECRET\")\n",
    "    )\n",
    "    access_token = TWITTER_ACCESS_TOKEN\n",
    "    access_token_secret = TWITTER_ACCESS_TOKEN_SECRET\n",
    "    twitter_auth.set_access_token(access_token, access_token_secret)\n",
    "    global TWITTER\n",
    "    TWITTER = tweepy.API(twitter_auth)\n",
    "\n",
    "    try:\n",
    "        home_timeline = TWITTER.home_timeline(\n",
    "            count=32,\n",
    "            tweet_mode=\"extended\",\n",
    "            exlude_rts=False,\n",
    "            exclude_replies=False\n",
    "        )\n",
    "        timeline = [process_tweet(full_tweet) for full_tweet in home_timeline]\n",
    "        output = bert_request(timeline)\n",
    "        return json.dumps(output)\n",
    "\n",
    "    except tweepy.TweepError:\n",
    "        print(\"tweepy.TweepError\")\n",
    "\n",
    "    except:\n",
    "        e = sys.exc_info()[0]\n",
    "        print(\"Error: %s\" % e)\n",
    "\n",
    "\n",
    "def process_request(request):\n",
    "    \"\"\" Responds to a GET request with \"Hello world!\". Forbids a PUT request.\n",
    "    Args:\n",
    "        request (flask.Request): The request object.\n",
    "        <http://flask.pocoo.org/docs/1.0/api/#flask.Request>\n",
    "    Returns:\n",
    "        The response text, or any set of values that can be turned into a\n",
    "         Response object using `make_response`\n",
    "        <http://flask.pocoo.org/docs/1.0/api/#flask.Flask.make_response>.\n",
    "    \"\"\"\n",
    "    from flask import abort\n",
    "\n",
    "    content_type = request.headers[\"content-type\"]\n",
    "    request_json = request.get_json(silent=True)\n",
    "    request_args = request.args\n",
    "\n",
    "    if content_type == \"application/json\":\n",
    "        request_json = request.get_json(silent=True)\n",
    "        # TWITTER_ACCESS_TOKEN check/set/error\n",
    "        if request_json and \"TWITTER_ACCESS_TOKEN\" in request_json:\n",
    "            TWITTER_ACCESS_TOKEN = request_json[\"TWITTER_ACCESS_TOKEN\"]\n",
    "        else:\n",
    "            raise ValueError(\"Missing a 'TWITTER_ACCESS_TOKEN'\")\n",
    "        # TWITTER_ACCESS_TOKEN_SECRET check/set/error\n",
    "        if request_json and \"TWITTER_ACCESS_TOKEN_SECRET\" in request_json:\n",
    "            TWITTER_ACCESS_TOKEN_SECRET = request_json[\"TWITTER_ACCESS_TOKEN_SECRET\"]\n",
    "        else:\n",
    "            raise ValueError(\"Missing a 'TWITTER_ACCESS_TOKEN_SECRET'\")\n",
    "\n",
    "        if request_json and \"since_id\" in request_json:\n",
    "            since_id = request_json[\"since_id\"]\n",
    "        else:\n",
    "            since_id = None\n",
    "\n",
    "        # Call the function for the POST request.\n",
    "        if request.method == \"POST\":\n",
    "            return clean_timeline(\n",
    "                TWITTER_ACCESS_TOKEN, TWITTER_ACCESS_TOKEN_SECRET, since_id\n",
    "            )\n",
    "    else:\n",
    "        return abort(405)"
   ]
  },
  {
   "cell_type": "code",
   "execution_count": 18,
   "metadata": {},
   "outputs": [],
   "source": [
    "r = clean_timeline(TWITTER_ACCESS_TOKEN,TWITTER_ACCESS_TOKEN_SECRET)"
   ]
  },
  {
   "cell_type": "code",
   "execution_count": 20,
   "metadata": {},
   "outputs": [],
   "source": [
    "r =json.loads(r)"
   ]
  },
  {
   "cell_type": "code",
   "execution_count": 23,
   "metadata": {},
   "outputs": [
    {
     "data": {
      "text/plain": [
       "31"
      ]
     },
     "execution_count": 23,
     "metadata": {},
     "output_type": "execute_result"
    }
   ],
   "source": [
    "len(r[\"results\"])"
   ]
  },
  {
   "cell_type": "code",
   "execution_count": 27,
   "metadata": {},
   "outputs": [],
   "source": [
    "home_timeline = TWITTER.home_timeline(\n",
    "    count=32, tweet_mode=\"extended\", exlude_rts=False, exclude_replies=False\n",
    ")\n",
    "timeline = [process_tweet(full_tweet) for full_tweet in home_timeline]"
   ]
  },
  {
   "cell_type": "code",
   "execution_count": 29,
   "metadata": {},
   "outputs": [
    {
     "data": {
      "text/plain": [
       "31"
      ]
     },
     "execution_count": 29,
     "metadata": {},
     "output_type": "execute_result"
    }
   ],
   "source": [
    "len(timeline)"
   ]
  },
  {
   "cell_type": "code",
   "execution_count": 10,
   "metadata": {},
   "outputs": [],
   "source": [
    "headers = {\"Content-Type\":\"application/json\"}\n",
    "body = {\"TWITTER_ACCESS_TOKEN\": config('TWITTER_ACCESS_TOKEN'),\n",
    "        \"TWITTER_ACCESS_TOKEN_SECRET\": config('TWITTER_ACCESS_TOKEN_SECRET')\n",
    "        }"
   ]
  },
  {
   "cell_type": "code",
   "execution_count": 11,
   "metadata": {},
   "outputs": [
    {
     "name": "stdout",
     "output_type": "stream",
     "text": [
      "Wall time: 520 ms\n"
     ]
    }
   ],
   "source": [
    "%%time\n",
    "r = requests.post(\"https://us-central1-twitter-bert-models.cloudfunctions.net/function-1\",\n",
    "                  headers=headers,\n",
    "                  data=json.dumps(body))"
   ]
  },
  {
   "cell_type": "code",
   "execution_count": 14,
   "metadata": {},
   "outputs": [
    {
     "data": {
      "text/plain": [
       "'OK'"
      ]
     },
     "execution_count": 14,
     "metadata": {},
     "output_type": "execute_result"
    }
   ],
   "source": [
    "r.text"
   ]
  },
  {
   "cell_type": "markdown",
   "metadata": {},
   "source": [
    "# single tweet per bert request"
   ]
  },
  {
   "cell_type": "code",
   "execution_count": 11,
   "metadata": {},
   "outputs": [],
   "source": [
    "import tweepy\n",
    "import re\n",
    "from decouple import config\n",
    "import json\n",
    "import requests\n",
    "import sys\n",
    "\n",
    "\n",
    "def bert_request(tweet_text):\n",
    "    data = {\"description\": tweet_text}\n",
    "    headers = {\"Content-type\": \"application/json\", \"cache-control\": \"no-cache\"}\n",
    "    data = json.dumps(data)\n",
    "    return requests.post(\"http://35.192.71.216:5000/\", data=data, headers=headers)\n",
    "\n",
    "\n",
    "def process_tweet(full_tweet):\n",
    "    # strip username\n",
    "    tweet = full_tweet.full_text\n",
    "\n",
    "    tweet = re.sub(r\"(?<=^|(?<=[^a-zA-Z0-9-_\\.]))@([A-Za-z]+[A-Za-z0-9-_]+)\", \"\", tweet)\n",
    "    # strip newlines and unicode characters that aren't formatted\n",
    "    tweet = re.sub(r\"\\n|&gt;|RT :\", \"\", tweet)\n",
    "    # strip twitter urls from tweets\n",
    "    tweet = re.sub(\n",
    "        r\"(?<=^|(?<=[^a-zA-Z0-9-_\\.]))https://t.co/([A-Za-z0-9-_,\\']+)\", \"\", tweet\n",
    "    )\n",
    "    # Remove emojis\n",
    "    RE_EMOJI = re.compile(\"[\\U00010000-\\U0010ffff]\", flags=re.UNICODE)\n",
    "    tweet = RE_EMOJI.sub(r\"\", tweet)\n",
    "    # remove whitespace\n",
    "    tweet = tweet.strip()\n",
    "    # make api request for toxicity analysis\n",
    "    bert_result = bert_request(tweet).json()\n",
    "\n",
    "    tweet_info = {\n",
    "        \"tweet\": {\n",
    "            \"user_id\": full_tweet.user.id,\n",
    "            \"user_name\": full_tweet.user.name,\n",
    "            \"tweet\": full_tweet.full_text,\n",
    "            \"tweet_id\": full_tweet.id_str,\n",
    "            \"bert_output\": bert_result,\n",
    "            \"tweet\": tweet,\n",
    "        }\n",
    "    }\n",
    "    return tweet_info\n",
    "\n",
    "\n",
    "def clean_timeline(TWITTER_ACCESS_TOKEN, TWITTER_ACCESS_TOKEN_SECRET):\n",
    "    # Create Twitter Connection\n",
    "    twitter_auth = tweepy.OAuthHandler(\n",
    "        config(\"TWITTER_CONSUMER_KEY\"), config(\"TWITTER_CONSUMER_SECRET\")\n",
    "    )\n",
    "    access_token = TWITTER_ACCESS_TOKEN\n",
    "    access_token_secret = TWITTER_ACCESS_TOKEN_SECRET\n",
    "    twitter_auth.set_access_token(access_token, access_token_secret)\n",
    "    global TWITTER\n",
    "    TWITTER = tweepy.API(twitter_auth)\n",
    "\n",
    "    try:\n",
    "        home_timeline = TWITTER.home_timeline(\n",
    "            count=20, tweet_mode=\"extended\", exlude_rts=False\n",
    "        )\n",
    "        timeline = [process_tweet(full_tweet) for full_tweet in home_timeline]\n",
    "        return json.dumps(timeline)\n",
    "\n",
    "    except tweepy.TweepError:\n",
    "        print(\"tweepy.TweepError\")\n",
    "\n",
    "    except:\n",
    "        e = sys.exc_info()[0]\n",
    "        print(\"Error: %s\" % e)\n",
    "\n",
    "\n",
    "def process_request(request):\n",
    "    \"\"\" Responds to a GET request with \"Hello world!\". Forbids a PUT request.\n",
    "    Args:\n",
    "        request (flask.Request): The request object.\n",
    "        <http://flask.pocoo.org/docs/1.0/api/#flask.Request>\n",
    "    Returns:\n",
    "        The response text, or any set of values that can be turned into a\n",
    "         Response object using `make_response`\n",
    "        <http://flask.pocoo.org/docs/1.0/api/#flask.Flask.make_response>.\n",
    "    \"\"\"\n",
    "    from flask import abort\n",
    "\n",
    "    content_type = request.headers[\"content-type\"]\n",
    "    request_json = request.get_json(silent=True)\n",
    "    request_args = request.args\n",
    "\n",
    "    if content_type == \"application/json\":\n",
    "        request_json = request.get_json(silent=True)\n",
    "        # TWITTER_ACCESS_TOKEN check/set/error\n",
    "        if request_json and \"TWITTER_ACCESS_TOKEN\" in request_json:\n",
    "            TWITTER_ACCESS_TOKEN = request_json[\"TWITTER_ACCESS_TOKEN\"]\n",
    "        else:\n",
    "            raise ValueError(\"Missing a 'TWITTER_ACCESS_TOKEN'\")\n",
    "        # TWITTER_ACCESS_TOKEN_SECRET check/set/error\n",
    "        if request_json and \"TWITTER_ACCESS_TOKEN_SECRET\" in request_json:\n",
    "            TWITTER_ACCESS_TOKEN_SECRET = request_json[\"TWITTER_ACCESS_TOKEN_SECRET\"]\n",
    "        else:\n",
    "            raise ValueError(\"Missing a 'TWITTER_ACCESS_TOKEN_SECRET'\")\n",
    "\n",
    "        # Call the function for the POST request.\n",
    "        if request.method == \"POST\":\n",
    "            return clean_timeline(TWITTER_ACCESS_TOKEN, TWITTER_ACCESS_TOKEN_SECRET)\n",
    "    else:\n",
    "        return abort(405)"
   ]
  },
  {
   "cell_type": "code",
   "execution_count": null,
   "metadata": {},
   "outputs": [],
   "source": []
  },
  {
   "cell_type": "markdown",
   "metadata": {},
   "source": [
    "## TEST - Single"
   ]
  },
  {
   "cell_type": "code",
   "execution_count": 12,
   "metadata": {},
   "outputs": [],
   "source": [
    "headers = {\"Content-Type\":\"application/json\"}\n",
    "body = {\"TWITTER_ACCESS_TOKEN\": config('TWITTER_ACCESS_TOKEN'),\n",
    "        \"TWITTER_ACCESS_TOKEN_SECRET\": config('TWITTER_ACCESS_TOKEN_SECRET')\n",
    "        }"
   ]
  },
  {
   "cell_type": "code",
   "execution_count": 13,
   "metadata": {},
   "outputs": [
    {
     "name": "stdout",
     "output_type": "stream",
     "text": [
      "Wall time: 6.53 s\n"
     ]
    }
   ],
   "source": [
    "%%time\n",
    "r = requests.post(\"https://us-central1-twitter-bert-models.cloudfunctions.net/function-1\",\n",
    "                  headers=headers,\n",
    "                  data=json.dumps(body))"
   ]
  },
  {
   "cell_type": "code",
   "execution_count": 14,
   "metadata": {},
   "outputs": [],
   "source": [
    "r2 = r.json()"
   ]
  },
  {
   "cell_type": "code",
   "execution_count": 15,
   "metadata": {
    "scrolled": true
   },
   "outputs": [
    {
     "data": {
      "text/plain": [
       "{'tweet': {'tweet': {'user_id': 97530284,\n",
       "   'user_name': 'Ben Carlson',\n",
       "   'tweet': \"Preview of tomorrow's Animal Spirits where Michael vows to get in shape https://t.co/udX2FrIO5e\",\n",
       "   'tweet_id': '1128355489253924864'}},\n",
       " 'bert_result': {'identity_hate': 4.118680953979492e-05,\n",
       "  'insult': 0.00019314885139465332,\n",
       "  'obscene': 0.00017538666725158691,\n",
       "  'severe_toxic': 3.787875175476074e-05,\n",
       "  'threat': 2.753734588623047e-05,\n",
       "  'toxic': 0.000570446252822876}}"
      ]
     },
     "execution_count": 15,
     "metadata": {},
     "output_type": "execute_result"
    }
   ],
   "source": [
    "r2[0]"
   ]
  },
  {
   "cell_type": "code",
   "execution_count": 16,
   "metadata": {},
   "outputs": [
    {
     "data": {
      "text/plain": [
       "[{'tweet': {'user_id': 97530284,\n",
       "   'user_name': 'Ben Carlson',\n",
       "   'tweet': \"Preview of tomorrow's Animal Spirits where Michael vows to get in shape https://t.co/udX2FrIO5e\",\n",
       "   'tweet_id': '1128355489253924864'}},\n",
       " {'tweet': {'user_id': 23909137,\n",
       "   'user_name': 'Larry Brown',\n",
       "   'tweet': 'RT @SteveDelSports: Terry Rozier implies Kyrie Irving ignored Celtics coaches, game plan https://t.co/IH57mFJehK',\n",
       "   'tweet_id': '1128355038034845696'}},\n",
       " {'tweet': {'user_id': 293479676,\n",
       "   'user_name': 'Tohad',\n",
       "   'tweet': \"I'm going in Japan very soon. If you are in Tokyo or Kyoto, let me know in PM! I would love to have a drink with friends or new friends 🇯🇵\",\n",
       "   'tweet_id': '1128354909533949952'}},\n",
       " {'tweet': {'user_id': 87829185,\n",
       "   'user_name': 'B. Miller',\n",
       "   'tweet': 'Tim Conway was a funny dude.',\n",
       "   'tweet_id': '1128354407811358722'}},\n",
       " {'tweet': {'user_id': 1122333511,\n",
       "   'user_name': 'Sebastian Wiesendahl',\n",
       "   'tweet': 'RT @doug_parr: Cement is responsible for 7% of global CO2 emissions and one of the hardest to decarbonise \\n\\nSo the 4th-largest cement manuf…',\n",
       "   'tweet_id': '1128351655873978368'}},\n",
       " {'tweet': {'user_id': 13220072,\n",
       "   'user_name': 'Tommy Collison',\n",
       "   'tweet': 'Someone just applied to @LambdaSchool after finding out about Lambda from https://t.co/mp8aAHaFHJ.',\n",
       "   'tweet_id': '1128349515956740097'}},\n",
       " {'tweet': {'user_id': 16023029,\n",
       "   'user_name': 'Joe Posnanski',\n",
       "   'tweet': 'RT @CarlosLozadaWP: KISSINGER ON KISSINGER, with an introduction by... Henry Kissinger. https://t.co/GSkC5UuoQu',\n",
       "   'tweet_id': '1128346600718458882'}},\n",
       " {'tweet': {'user_id': 709644992,\n",
       "   'user_name': 'Devon',\n",
       "   'tweet': \"Good take. It's notable that @googledocs does embrace paperlessness on mobile, even if it can't yet bite that bullet on desktop. https://t.co/jTNJVYghK8\",\n",
       "   'tweet_id': '1128346336170999809'}},\n",
       " {'tweet': {'user_id': 1536600704,\n",
       "   'user_name': 'Alex Griswold',\n",
       "   'tweet': 'Dany went to weeeeird places after Jon dumped her https://t.co/kBeD0EAWGo',\n",
       "   'tweet_id': '1128346191551500288'}},\n",
       " {'tweet': {'user_id': 294306372,\n",
       "   'user_name': 'Palmer Luckey',\n",
       "   'tweet': 'RT @zebulgar: This tour of Anduril has to be my favorite company tour ever. I feel like a kid in a candy store except the candy is robots a…',\n",
       "   'tweet_id': '1128346014622945280'}},\n",
       " {'tweet': {'user_id': 16396078,\n",
       "   'user_name': 'Nate Bargatze',\n",
       "   'tweet': \"Don't ask questions. https://t.co/MVzuHoNEZa\",\n",
       "   'tweet_id': '1128345998533599232'}},\n",
       " {'tweet': {'user_id': 321014839,\n",
       "   'user_name': 'Starting Strength',\n",
       "   'tweet': 'Rip takes a look at spinal anatomy and how overextension in the lumbar spine can cause impingement and injury. https://t.co/Az2fJru4Kz',\n",
       "   'tweet_id': '1128344032369893377'}},\n",
       " {'tweet': {'user_id': 3765572533,\n",
       "   'user_name': 'Dr Shawn Baker 🥩',\n",
       "   'tweet': 'RT @MJPadula: @SBakerMD I was a vegetarian in the 90s . While doing my first internship in 1998 w Charles Poliquin -more Olympic medalists…',\n",
       "   'tweet_id': '1128343166682259456'}},\n",
       " {'tweet': {'user_id': 38190583,\n",
       "   'user_name': 'Daniel Gross',\n",
       "   'tweet': 'Tariffs have an ironic globalizing effect, incentivizing nation-competencies to be reshuffled. \\n\\nAmerica learns how to Shenzen, China learns how to California, etc.',\n",
       "   'tweet_id': '1128342529953296385'}},\n",
       " {'tweet': {'user_id': 858716964,\n",
       "   'user_name': 'PFTCommenter',\n",
       "   'tweet': '@PardonMyTake dunking a pingpong ball painted so it look’s like a basketball*',\n",
       "   'tweet_id': '1128339597715542017'}},\n",
       " {'tweet': {'user_id': 23909137,\n",
       "   'user_name': 'Larry Brown',\n",
       "   'tweet': 'RT @SteveDelSports: Dozens of shots were fired into the home of Colts assistant Parks Frazier over the weekend. Frazier is essentially head…',\n",
       "   'tweet_id': '1128337314437107719'}},\n",
       " {'tweet': {'user_id': 1536600704,\n",
       "   'user_name': 'Alex Griswold',\n",
       "   'tweet': 'RT @PanchoBilla1: Our hearts broken as we have lost our dear brother ezra \"Pancho Billa\" this morning. We are thankful and forever grateful…',\n",
       "   'tweet_id': '1128337186565132288'}},\n",
       " {'tweet': {'user_id': 4916001683,\n",
       "   'user_name': 'Pardon My Take',\n",
       "   'tweet': 'RT @BarstoolBigCat: I need justice for this poor soul  https://t.co/0Ait3hXzMY',\n",
       "   'tweet_id': '1128336591271923713'}},\n",
       " {'tweet': {'user_id': 1536600704,\n",
       "   'user_name': 'Alex Griswold',\n",
       "   'tweet': \"RT @GlennKesslerWP: No, he didn't. Nelson claimed the Russians were in the systems in 2018. No evidence has ever emerged to prove that. Peo…\",\n",
       "   'tweet_id': '1128336555075080193'}},\n",
       " {'tweet': {'user_id': 216402879,\n",
       "   'user_name': 'Peter Ballerstedt',\n",
       "   'tweet': '#Diabetes pandemic #unsusrainable\\n\\n#NASFC @UCDavisWFC https://t.co/yicbdL5FG3',\n",
       "   'tweet_id': '1128336286077480960'}},\n",
       " {'tweet': {'user_id': 87829185,\n",
       "   'user_name': 'B. Miller',\n",
       "   'tweet': 'The priest says, “let me pray for Zion.”\\nThe rabbi says, “I also will pray for this.”\\nThe shaman says, “Oh, this is real?” and crumples up a note where he had written the punch line. https://t.co/e7yp9WF9wA',\n",
       "   'tweet_id': '1128335957520994305'}},\n",
       " {'tweet': {'user_id': 4916001683,\n",
       "   'user_name': 'Pardon My Take',\n",
       "   'tweet': 'Working with the stats department to make official odds on PFT dunking https://t.co/Q4L7N8yXne',\n",
       "   'tweet_id': '1128335661948440576'}},\n",
       " {'tweet': {'user_id': 3765572533,\n",
       "   'user_name': 'Dr Shawn Baker 🥩',\n",
       "   'tweet': 'Two sets of ingredients lists, one is dog food, the other is the Beyond Meat Burger! Even the dogs are confused😳 https://t.co/gwZ23yIVgE',\n",
       "   'tweet_id': '1128334480538775554'}},\n",
       " {'tweet': {'user_id': 8496762,\n",
       "   'user_name': 'tylercowen',\n",
       "   'tweet': 'RT @ProbCausation: Episode 3 is now available! @jenniferdoleac talks with @analisapackham about the effects of syringe exchange programs on…',\n",
       "   'tweet_id': '1128332249936596998'}},\n",
       " {'tweet': {'user_id': 89224272,\n",
       "   'user_name': 'Ricardo Ferreira',\n",
       "   'tweet': 'Current status: https://t.co/7tRTYlWUjT',\n",
       "   'tweet_id': '1128331507167318018'}},\n",
       " {'tweet': {'user_id': 221838349,\n",
       "   'user_name': 'Austen Allred',\n",
       "   'tweet': 'This tweet goes out to the government agency that sent us a document as 700+ individual single page PDFs and stressed the importance of us having everything in the proper order when we send it in',\n",
       "   'tweet_id': '1128330808568082432'}},\n",
       " {'tweet': {'user_id': 3765572533,\n",
       "   'user_name': 'Dr Shawn Baker 🥩',\n",
       "   'tweet': 'RT @Narxism: @BrettCPullen @trevchenko82 @SBakerMD https://t.co/n3ShW3zCRF',\n",
       "   'tweet_id': '1128330625398624257'}},\n",
       " {'tweet': {'user_id': 1536600704,\n",
       "   'user_name': 'Alex Griswold',\n",
       "   'tweet': '*Always Sunny theme* https://t.co/tgi3iTX9ME',\n",
       "   'tweet_id': '1128329614957268993'}},\n",
       " {'tweet': {'user_id': 23909137,\n",
       "   'user_name': 'Larry Brown',\n",
       "   'tweet': 'RT @SteveDelSports: Cowboys veteran DL Tyrone Crawford facing charge stemming from an alleged fight at a Coyote Ugly bar in Panama City htt…',\n",
       "   'tweet_id': '1128329577632292869'}},\n",
       " {'tweet': {'user_id': 3765572533,\n",
       "   'user_name': 'Dr Shawn Baker 🥩',\n",
       "   'tweet': 'Kendrick bombed in the 2016 olympics and had by far the worst showing of his Olympic career as a vegan (did much better placing wise in 2012 and 2008 as a meat eater)-he is now injured and retired)- also he still ate whey protein https://t.co/OtZXitb5tw',\n",
       "   'tweet_id': '1128329308601061377'}},\n",
       " {'tweet': {'user_id': 20963651,\n",
       "   'user_name': 'Sean J. Taylor',\n",
       "   'tweet': 'RT @robinson_es: I’m excited to announce that @skyetetra and I are writing a book! Build Your Career In Data Science from @ManningBooks is…',\n",
       "   'tweet_id': '1128328977569869824'}},\n",
       " {'tweet': {'user_id': 3765572533,\n",
       "   'user_name': 'Dr Shawn Baker 🥩',\n",
       "   'tweet': 'Our bodies crave meat! Whether carnivore, omnivore or vegan- we either ingest it directly or our body turns upon itself to obtain it-that is why vegans who initially go into a nutrition… https://t.co/8apv2PyZRm',\n",
       "   'tweet_id': '1128328029019750401'}}]"
      ]
     },
     "execution_count": 16,
     "metadata": {},
     "output_type": "execute_result"
    }
   ],
   "source": [
    "[r2[i][\"tweet\"] for i in range(len(r2))]"
   ]
  },
  {
   "cell_type": "markdown",
   "metadata": {},
   "source": [
    "# with Asyncio\n",
    "did not work"
   ]
  },
  {
   "cell_type": "code",
   "execution_count": 17,
   "metadata": {},
   "outputs": [],
   "source": [
    "import tweepy\n",
    "import re\n",
    "from decouple import config\n",
    "import json\n",
    "import requests\n",
    "import sys\n",
    "\n",
    "def bert_request(tweet_text):\n",
    "    data = {\"description\":tweet_text}\n",
    "    headers= {'Content-type':\"application/json\",\n",
    "               \"cache-control\":\"no-cache\"\n",
    "              }\n",
    "    data= json.dumps(data)\n",
    "    return requests.post(\"http://35.192.71.216:5000/\", data = data, headers = headers)\n",
    "\n",
    "def process_tweet(full_tweet):\n",
    "    #strip username\n",
    "    tweet = full_tweet.full_text\n",
    "\n",
    "    tweet = re.sub(r'(?<=^|(?<=[^a-zA-Z0-9-_\\.]))@([A-Za-z]+[A-Za-z0-9-_]+)','',tweet)\n",
    "    #strip newlines and unicode characters that aren't formatted\n",
    "    tweet = re.sub(r'\\n|&gt;|RT :','',tweet)\n",
    "    #strip twitter urls from tweets\n",
    "    tweet = re.sub(r'(?<=^|(?<=[^a-zA-Z0-9-_\\.]))https://t.co/([A-Za-z0-9-_,\\']+)','',tweet)\n",
    "    #Remove emojis\n",
    "    RE_EMOJI = re.compile('[\\U00010000-\\U0010ffff]', flags=re.UNICODE)\n",
    "    tweet = RE_EMOJI.sub(r'', tweet)\n",
    "    #remove whitespace\n",
    "    tweet = tweet.strip()\n",
    "    #make api request for toxicity analysis\n",
    "    bert_result = bert_request(tweet).json()\n",
    "    \n",
    "    tweet_info = {\"tweet\": \n",
    "                     {\"user_id\": full_tweet.user.id,\n",
    "                      \"user_name\" : full_tweet.user.name,\n",
    "                      \"tweet\": full_tweet.full_text,\n",
    "                      \"tweet_id\" : full_tweet.id_str,\n",
    "                     \"bert_output\": bert_result,\n",
    "                     \"tweet\":tweet}\n",
    "                    }\n",
    "    return tweet_info\n",
    "    \n",
    "\n",
    "def clean_timeline(TWITTER_ACCESS_TOKEN,TWITTER_ACCESS_TOKEN_SECRET):\n",
    "    # Create Twitter Connection\n",
    "    twitter_auth = tweepy.OAuthHandler(config('TWITTER_CONSUMER_KEY'),config('TWITTER_CONSUMER_SECRET'))\n",
    "    access_token = TWITTER_ACCESS_TOKEN\n",
    "    access_token_secret = TWITTER_ACCESS_TOKEN_SECRET\n",
    "    twitter_auth.set_access_token(access_token, access_token_secret)\n",
    "    global TWITTER\n",
    "    TWITTER = tweepy.API(twitter_auth)\n",
    "    \n",
    "    try:\n",
    "        home_timeline = TWITTER.home_timeline(count=20,\n",
    "                                         tweet_mode='extended',\n",
    "                                         exlude_rts=False)\n",
    "        timeline = [ process_tweet(full_tweet)\n",
    "                   for full_tweet in home_timeline]\n",
    "        return json.dumps(timeline)\n",
    "\n",
    "    except tweepy.TweepError:\n",
    "        print(\"tweepy.TweepError\")\n",
    "        \n",
    "    except:\n",
    "        e = sys.exc_info()[0]\n",
    "        print(\"Error: %s\" % e)\n",
    "        \n",
    "        \n",
    "def process_request(request):\n",
    "    \"\"\" Responds to a GET request with \"Hello world!\". Forbids a PUT request.\n",
    "    Args:\n",
    "        request (flask.Request): The request object.\n",
    "        <http://flask.pocoo.org/docs/1.0/api/#flask.Request>\n",
    "    Returns:\n",
    "        The response text, or any set of values that can be turned into a\n",
    "         Response object using `make_response`\n",
    "        <http://flask.pocoo.org/docs/1.0/api/#flask.Flask.make_response>.\n",
    "    \"\"\"\n",
    "    from flask import abort\n",
    "\n",
    "    content_type = request.headers['content-type']\n",
    "    request_json = request.get_json(silent=True)\n",
    "    request_args = request.args\n",
    "\n",
    "    if content_type == 'application/json': \n",
    "        request_json = request.get_json(silent=True)\n",
    "        # TWITTER_ACCESS_TOKEN check/set/error\n",
    "        if request_json and 'TWITTER_ACCESS_TOKEN' in request_json:\n",
    "            TWITTER_ACCESS_TOKEN = request_json['TWITTER_ACCESS_TOKEN']\n",
    "        else:\n",
    "            raise ValueError(\"Missing a 'TWITTER_ACCESS_TOKEN'\")\n",
    "        # TWITTER_ACCESS_TOKEN_SECRET check/set/error\n",
    "        if request_json and 'TWITTER_ACCESS_TOKEN_SECRET' in request_json:\n",
    "            TWITTER_ACCESS_TOKEN_SECRET = request_json['TWITTER_ACCESS_TOKEN_SECRET']\n",
    "        else:\n",
    "            raise ValueError(\"Missing a 'TWITTER_ACCESS_TOKEN_SECRET'\")\n",
    "        \n",
    "        # Call the function for the POST request. \n",
    "        if request.method == 'POST':\n",
    "            return clean_timeline(TWITTER_ACCESS_TOKEN,TWITTER_ACCESS_TOKEN_SECRET)\n",
    "    else:\n",
    "        return abort(405)"
   ]
  },
  {
   "cell_type": "code",
   "execution_count": 18,
   "metadata": {},
   "outputs": [],
   "source": [
    "def clean_timeline(TWITTER_ACCESS_TOKEN,TWITTER_ACCESS_TOKEN_SECRET):\n",
    "    # Create Twitter Connection\n",
    "    twitter_auth = tweepy.OAuthHandler(config('TWITTER_CONSUMER_KEY'),config('TWITTER_CONSUMER_SECRET'))\n",
    "    access_token = TWITTER_ACCESS_TOKEN\n",
    "    access_token_secret = TWITTER_ACCESS_TOKEN_SECRET\n",
    "    twitter_auth.set_access_token(access_token, access_token_secret)\n",
    "    global TWITTER\n",
    "    TWITTER = tweepy.API(twitter_auth)\n",
    "    \n",
    "    try:\n",
    "        home_timeline = TWITTER.home_timeline(count=200,\n",
    "                                         tweet_mode='extended',\n",
    "                                         exlude_rts=False)\n",
    "        timeline = [ process_tweet(full_tweet)\n",
    "                   for full_tweet in home_timeline]\n",
    "        return json.dumps(timeline)\n",
    "\n",
    "    except tweepy.TweepError:\n",
    "        print(\"tweepy.TweepError\")\n",
    "        \n",
    "    except:\n",
    "        e = sys.exc_info()[0]\n",
    "        print(\"Error: %s\" % e)\n",
    "def process_tweet(full_tweet):\n",
    "    #strip username\n",
    "    tweet = full_tweet.full_text\n",
    "\n",
    "    tweet = re.sub(r'(?<=^|(?<=[^a-zA-Z0-9-_\\.]))@([A-Za-z]+[A-Za-z0-9-_]+)','',tweet)\n",
    "    #strip newlines and unicode characters that aren't formatted\n",
    "    tweet = re.sub(r'\\n|&gt;|RT :','',tweet)\n",
    "    #strip twitter urls from tweets\n",
    "    tweet = re.sub(r'(?<=^|(?<=[^a-zA-Z0-9-_\\.]))https://t.co/([A-Za-z0-9-_,\\']+)','',tweet)\n",
    "    #Remove emojis\n",
    "    RE_EMOJI = re.compile('[\\U00010000-\\U0010ffff]', flags=re.UNICODE)\n",
    "    tweet = RE_EMOJI.sub(r'', tweet)\n",
    "    #remove whitespace\n",
    "    tweet = tweet.strip()\n",
    "    return tweet\n",
    "    #make api request for toxicity analysis\n",
    "#     bert_result = bert_request(tweet).json()\n",
    "    \n",
    "#     tweet_info = {\"tweet\": \n",
    "#                      {\"user_id\": full_tweet.user.id,\n",
    "#                       \"user_name\" : full_tweet.user.name,\n",
    "#                       \"tweet\": full_tweet.full_text,\n",
    "#                       \"tweet_id\" : full_tweet.id_str,\n",
    "#                      \"bert_output\": bert_result,\n",
    "#                      \"tweet\":tweet}\n",
    "#                     }\n",
    "#     return tweet_info\n",
    "\n",
    "\n"
   ]
  },
  {
   "cell_type": "code",
   "execution_count": 19,
   "metadata": {},
   "outputs": [
    {
     "name": "stdout",
     "output_type": "stream",
     "text": [
      "Wall time: 786 ms\n"
     ]
    },
    {
     "data": {
      "text/plain": [
       "'[\"Preview of tomorrow\\'s Animal Spirits where Michael vows to get in shape\", \"Terry Rozier implies Kyrie Irving ignored Celtics coaches, game plan\", \"I\\'m going in Japan very soon. If you are in Tokyo or Kyoto, let me know in PM! I would love to have a drink with friends or new friends\", \"Tim Conway was a funny dude.\", \"Cement is responsible for 7% of global CO2 emissions and one of the hardest to decarbonise So the 4th-largest cement manuf\\\\u2026\", \"Someone just applied to  after finding out about Lambda from .\", \"KISSINGER ON KISSINGER, with an introduction by... Henry Kissinger.\", \"Good take. It\\'s notable that  does embrace paperlessness on mobile, even if it can\\'t yet bite that bullet on desktop.\", \"Dany went to weeeeird places after Jon dumped her\", \"This tour of Anduril has to be my favorite company tour ever. I feel like a kid in a candy store except the candy is robots a\\\\u2026\", \"Don\\'t ask questions.\", \"Rip takes a look at spinal anatomy and how overextension in the lumbar spine can cause impingement and injury.\", \"I was a vegetarian in the 90s . While doing my first internship in 1998 w Charles Poliquin -more Olympic medalists\\\\u2026\", \"Tariffs have an ironic globalizing effect, incentivizing nation-competencies to be reshuffled. America learns how to Shenzen, China learns how to California, etc.\", \"dunking a pingpong ball painted so it look\\\\u2019s like a basketball*\", \"Dozens of shots were fired into the home of Colts assistant Parks Frazier over the weekend. Frazier is essentially head\\\\u2026\", \"Our hearts broken as we have lost our dear brother ezra \\\\\"Pancho Billa\\\\\" this morning. We are thankful and forever grateful\\\\u2026\", \"I need justice for this poor soul\", \"No, he didn\\'t. Nelson claimed the Russians were in the systems in 2018. No evidence has ever emerged to prove that. Peo\\\\u2026\", \"#Diabetes pandemic #unsusrainable#NASFC\", \"The priest says, \\\\u201clet me pray for Zion.\\\\u201dThe rabbi says, \\\\u201cI also will pray for this.\\\\u201dThe shaman says, \\\\u201cOh, this is real?\\\\u201d and crumples up a note where he had written the punch line.\", \"Working with the stats department to make official odds on PFT dunking\", \"Two sets of ingredients lists, one is dog food, the other is the Beyond Meat Burger! Even the dogs are confused\", \"Episode 3 is now available!  talks with  about the effects of syringe exchange programs on\\\\u2026\", \"Current status:\", \"This tweet goes out to the government agency that sent us a document as 700+ individual single page PDFs and stressed the importance of us having everything in the proper order when we send it in\", \"\", \"*Always Sunny theme*\", \"Cowboys veteran DL Tyrone Crawford facing charge stemming from an alleged fight at a Coyote Ugly bar in Panama City htt\\\\u2026\", \"Kendrick bombed in the 2016 olympics and had by far the worst showing of his Olympic career as a vegan (did much better placing wise in 2012 and 2008 as a meat eater)-he is now injured and retired)- also he still ate whey protein\", \"I\\\\u2019m excited to announce that  and I are writing a book! Build Your Career In Data Science from  is\\\\u2026\", \"Our bodies crave meat! Whether carnivore, omnivore or vegan- we either ingest it directly or our body turns upon itself to obtain it-that is why vegans who initially go into a nutrition\\\\u2026\", \"~Why are conservatives so obsessed with AOC~\", \"\", \"Today\\'s office#NASFC.\", \"Me walking past the huge lunch line out the door at Chipotle and picking up my mobile order that\\'s ready to gohttps://t.co/hlZZ1j7LRW\", \"I think it\\\\u2019s pretty much self-discrediting. Anyone who watches the Evergreen videos will immediately learn something about the . The problem is people who have no idea this is an open lie because they didn\\\\u2019t follow the story.\", \"Life comes at you fast, I guess.\", \"Sound on for an incredible highlight reel from New York\\\\u2019s most recent usstrengthlifting at . They\\\\u2019re gearing up for their next meet in September, which should be another\\\\u2026\", \"For more info see Oxford Uni\\\\u2019s \\\\u201cCult of Saints in Late Antiquity\\\\u201d records for Christophoros [] including his \\\\u201cepic\\\\u201d Greek martyrology, prob written in 5th cent  and a number of inscriptions and church calendars (celebrated 9 May)\", \"I\\'m sure I\\'m still getting some esoteric inside-baseball irrelevant point wrong here that he\\'d attack, ignoring my main points, if he actually had the stones to read tweets he disagreed with. He doesn\\'t.\", \"So it was with some amusement today that I saw a strong argument that, effectively, he, and Krugman (the Dracula to his bug eating Renfield) didn\\'t understand it so well either (along with most of the field to be fair).https://t.co/Iv4zDjMw6g\", \"Still, he had some fair points about my understanding of the liquidity trap, though again intentionally ignoring several parts of my essay (the main parts actually!) that were obviously right and he had no response for. That\\'s his go to move. Along with dripping condescension.\", \"In his sliming of me he intentionally ignored the parts of the \\\\\"letter\\\\\" that were right (financial asset inflation), and the main point of my essay reflecting on it (that forecasting a risk isn\\'t the same as forecasting an event happens).https://t.co/Fb39XVKIy7\", \"Years ago the odious Brad DeLong slimed me (I\\'m not subtweeting him, the wuss blocked me, not for anything vaguely inappropriate, but, literally, as he admitted, because he didn\\'t want to hear what I was saying - btw there\\'s a mute button for that).https://t.co/bkiBrbogyH\", \"St Christopher Cynocephalus / \\\\u201cDog-headed Bearer of Christ\\\\u201d : various traditions explain why he was represented w/ dog\\\\u2019s head (some sources say he was \\\\u201cdogfaced\\\\u201d; another holds that his origin in Canaan (Cananeus) was misread in translation from Latin 2 Greek as canine (canineus)\", \"They\\\\u2019ve been vegan for 10 minutes- hell im vegan right now as I haven\\\\u2019t yet had breakfast\", \"And if they continue to eat that way their careers will be plagued with injury and will be shortened (perhaps their financial investments in Beyond Meat, also may compel them to stretch the truth about diet a bit as well)\", \"\", \"Explain what? A gifted athlete gives up being a drunk and eating garbage to not eating garbage and stops drinking? He\\\\u2019d do even better with meat\", \"Carbon emissions around the world from 1751 to 2013This #animation shows relative location of Carbon emissions in each yea\\\\u2026\", \"I don\\\\u2019t think forgiving student loan debt is the answer but what is the answer having 0% interest student loans and refunding all prior interest charges.   can we get this done? :) #MakeStudentLoansGreatAgain\", \"Dodgers pitcher Julio Urias arrested on domestic violence charge after allegedly shoving woman to ground in parking lot\\\\u2026\", \"Dogs are basically wolves and thrive on what a wolf does- raw meat\", \"Many find Black Angus to have a nice flavor profile, but there are many other types\", \"That because he\\\\u2019s dieted down and not his year round look- being that lean constantly is not compatible with good health or performance- I likely have around 60lbs more lean mass then him as I\\\\u2019m closer to 250lbs\", \"As soon as they can eat food\", \"Not great, Bob!\", \"Far far far away from what can be obtained with animal protein- no vegan anywhere close to an Olympia contender (drugs or not)\", \"#BigIfTrue returns on LOTTERY TUESDAY...Call in now to take on our Trivia \\\\u201cExperts\\\\u201d    @\\\\u2026\", \"It\\\\u2019s shortsighted to think that the two preeminent geopolitical powers with differing cultural and national values will ever\\\\u2026\", \"These are the ingredient lists for dog food and beyond meat burgers- which one is which\", \"See u later earth nice known ya #liveabovetherim\", \"Took this photo while camping last week. Two frogs struck down by a car right when they were getting it on. Tragic but also maybe the best way to go for them.\", \"Let\\\\u2019s put aside the weaponized terminology and proceed from the premise that biases are common,  take many forms, and have substantial consequences. How would you structure the system of incentives such that the matter was properly and publicly aired?\", \"This  chart from 1982 predicted that in 2019 our atmospheric CO2 level would reach about 415 parts per million,\\\\u2026\", \"Jimmy Butler confident he will get max deal \\\\u2018anywhere I go\\\\u2019\", \"Beyond Meat is the Milli Vanilli of the nutrition world! All hype and no substance! #yes2meat #no2fakefoods\", \"I have such a similar story.Three years ago I\\\\u2026\", \"Nimai Delgado is about 170lbs- he is far far far far away from having the amount of muscle of an actual pro bodybuilder-also all of his muscle was built by eating eggs and sucking down whey protein while as a vegetarian\", \"I suspect Steve Bullock might not win the presidency, given that that I just wrote an entire piece referring to him as Seth Bullock\", \"may you tackle Tuesday with the determination of Peggy hauling an entire tree limb up a small hill\", \"Knicks fans today\", \"Some great questions to think about asking at your next performance reviewhttps://t.co/fnE867ajLC\", \"Have you read it yet? The #Holocene #SpecialIssue \\'The changing face of the Mediterranean: #Landcover, #demography and #envi\\\\u2026\", \"I bet he took a photo of his junk in the prison parking lot.\", \"What Should I Do With My Inheritance?\", \"Last years shorts vs this year. Size 12 in the back and size 4 now. 6 months of #Keto turned #carnivore.  \\\\u2026\", \"I was told in 2006 my hip would be replaced within 5-10 ye\\\\u2026\", \"Vegan can\\\\u2019t put on muscle thus \\\\u201cI don\\\\u2019t want muscle\\\\u201dIn fact having muscle really means you\\\\u2019re fat and have metabolic syndromeThese clowns are so deluded it\\\\u2019s comical\", \"\", \"Carnosine may be one of the most protective anti aging molecules available to us- it is found only in meat- currently the longest lived population on earth are also the same population\\\\u2026\", \"ketchup on steak is fake news!\", \"Scandal!  Mister P appears in British tabloid.\", \"Newt believes in fiscal responsibility\", \"Breaking news man bitching about people bitching. Doesn\\\\u2019t see the irony\", \"Meanwhile, Herman Cain is a TANK\", \"Trump says he doesn\\'t want war with Iran, but that\\'s exactly what he wants, because that\\'s exactly what Saudi Arabia, Netanyahu, al-Qaeda, Bolton, Haley, and other NeoCons/NeoLibs want. That\\\\u2019s what he put first--not America.\", \"Oh Kamala, nooo\", \"I\\'ve learned more about personal finance from  than anyoneNew edition of his book drops todayThis the one book I give out to college grads &amp; young professionals who need to understand how to get their finances in orderhttps://t.co/nHKZVDc1zd\", \"The 78th best Major League player ever ... Ron Santo.\", \"For 100 days the  bus from Finland toured the countries of Africa teaching children &amp; their mentors the basics\\\\u2026\", \"Founder of group whose volunteer died after dog bites: \\'Doing this brought her great joy\\'  via\", \"\\\\u3010\\\\u4eca\\\\u65e5\\\\u306e\\\\u77e5\\\\u898b\\\\u3011Musical Coding\\\\u30bd\\\\u30d5\\\\u30c8\\\\u306e\\\\u300cSonic Pi\\\\u300d(  ) \\\\u304c\\\\u9762\\\\u767d\\\\u3044\\\\uff01\\\\u30b3\\\\u30fc\\\\u30c7\\\\u30a3\\\\u30f3\\\\u30b0\\\\u3060\\\\u3051\\\\u3067\\\\u30ea\\\\u30a2\\\\u30eb\\\\u30bf\\\\u30a4\\\\u30e0\\\\u306b\\\\u97f3\\\\u697d\\\\u3092\\\\u751f\\\\u6210\\\\u3067\\\\u304d\\\\u3066\\\\uff0c\\\\u518d\\\\u751f\\\\u3057\\\\u306a\\\\u304c\\\\u3089\\\\u306e\\\\u7de8\\\\u96c6\\\\u3082\\\\u3067\\\\u304d\\\\u308b \\\\u304b\\\\u306a\\\\u308a\\\\u904a\\\\u3079\\\\u305d\\\\u3046 https://\\\\u2026\", \"Our \\\\\"Learn to code\\\\\" strand of Digital Wednesdays training sessions continue this Wednesday afternoon with a look/listen\\\\u2026\", \"Yes\", \"Inspiring and beautiful stylisation in the compositions of Ananda C. Ar\\\\u00e1n (  ) :\", \"Great podcast today guys\", \"Super excited to announce that  v1.0 is finally out!Head over to the website and give it a spin https:/\\\\u2026\", \"Which password has been pwned the most?(Data provided by the  API)\", \"Report: Lakers minority owners not happy with Jeanie Buss\", \"Best quote from this article: \\\\\"The best defence: go and do awesome things!\\\\\": Here\\'s how I handle online abus\\\\u2026\", \"Many thanks Nassim.\", \"LISTEN  Economics professor  discusses his new book \\\\\"Big Business: A Love Letter to an American Anti-Hero\\\\\" with \\\\u2026\", \"\\\\u2018How many fingers, Winston?\\\\u2019\\\\u2018Four.\\\\u2019The needle went up to sixty.\\\\u2018How many fingers, Winston?\\\\u2019\\\\u2018Four! Four! What else can I say? Four!\\\\u2019\", \"Firmenerbin Verena #Bahlsen behauptet, NS-Zwangsarbeiter seien im Unternehmen \\\\\"gut behandelt\\\\\" worden. Die Firma habe sich n\\\\u2026\", \"I am not comfortable drawing attention to myself, and away from my work, but as  begins their D.C. rally with\\\\u2026\", \"Die  informiert:\", \"Trump\\'s trade policies are dangerous, not stupid. We agree with Tyler Cowen: China and the EU will end up paying the lion\\\\u2026\", \"Dass Kapit\\\\u00e4n  und die  f\\\\u00fcr die  ertrinkender Menschen zu 10.000 Euro Strafe verurte\\\\u2026\", \"let\\\\u2019s get back to this kind of relationship. This kind of analysis is needed\", \"\", \"3/3 Economics generally regards this behavior as the definition of rational. And Kahneman et al. found that people are \\\\\"irrational.\\\\\" That\\'s not a surprise - the foundation is formally wrong, not a matter of taste just wrong mathematics.How did everyone miss this?\", \"2/3 The smallest possible payout is BC (green), and Bernoulli calculates that you shouldn\\'t pay more than Bp (red). But Bp is smaller than BC. The ticket is less than the minimum payout. Pay $5, get at least $10. And Bernoulli says you should reject that. (Figure: Econometrica)\", \"1/3 I\\'m writing up what\\'s mathematically wrong with Bernoulli\\'s 1738 lottery paper. Thinking about how to put it.This is the foundation of formal economics and was therefore translated from Latin and re-published in 1954 in Econometrica (pay-walled)\", \"If I were able to interact with parallel worlds like economists do, I would do way more fun things than harvest the average utility gain from the multiverse.\", \"Use #PyMC3 to model asteroid flux measurements to estimate an asteroid\\\\u2019s size, surface temperature distribution, and emissivity using a new package called ATM\", \"Off The Beat: Man jailed in alleged cheeseburger \\\\u2018slapping\\\\u2019  via\", \"Fantastic visit with  @ students to the Wiener Lab at  to learn about the archaeological sciences in Greece! Thank you  and Dimitris Michailidis!!!\", \"I remember the days when folk would go off and write their own stories if they didn\\\\u2019t feel they were getting what they wanted \\\\u200d\\\\u2640\\\\ufe0f\", \"Aftermath. Trying to get things back in working order. GOOD.\", \"Individual chimpanzees are perfectly able to devise from scratch tool uses that had been thought to be part of socially transmitted ape cultures.\", \"The  has jumped 1/3 of the way across the latrine, correcting only one of their defamatory claims, thereby reinforcing the others. In addition, they have butchered the amended sentence so badly that even a class 1 poetic license could not shield them from ridicule\", \"Doubly good arrival in the post today from genius photographer\", \"Explanation of the efficiency of 2D animation process in Japan. 1-Animator drawing2-Correction by animation superviso\\\\u2026\", \"Backgrounds from SHIROBAKO (1014, P.A. Works, art direction : Takeda Yusuke)\", \"\\\\\"Consumers believe similar others would use the same products more often and would find them more useful than they themselves would.\\\\\"\", \"Proactive regulations?Sounds like wishful thinking for some and like a nightmare for others.I am in the second group.By the way, capital needs are always miscalculated under Basel III (let alone model risk...).\", \"(I don\\'t know if a million is exactly the right number, but stipulate there is a number.)\", \"It\\'s sort of weird but economically many forms of fiction seem to be farm leagues for Hollywood (and, increasingly, prestige TV).\\\\\"Here\\'s ~$25k. If you can make a character a million people care about, we\\'ll bring in 1,000+ professionals and carve your vision out of the ether.\\\\\"\", \"If you are waiting for the perfect time, you will be waiting for a long time. Don\\\\u2019t wait. Go now.\", \"Adversarial attacks in the real world\", \"(Silicon Valley has an interesting understanding of time which is occasionally infectious.I try to occasionally remember to accomplish something really material over ~4 decades and also something in next six weeks, two thoughts which do not always make good fellows.)\", \"Historical context: the author here has been writing for 30 years, is at the point of the interview solidly \\\\\"midlist\\\\\" (there\\'s a technical definition but basically \\\\\"could support self as an author w/o day job\\\\\"), is 3 books into ASOIAF, and is ~10 years away from the big break.\", \"In addition to Game of Thrones being quite topical at the moment, I think it\\'s probably interesting to see an artist commenting on his life\\'s work ~20 years ago with it still not being complete.\", \"I would personally not use Vim for stuff like this, but some of you might like it.A simple task and time manager. - htt\\\\u2026\", \"Shockingly Moleskine+ (the notebook that automatically makes digital copies of all your notes and drawings as you write) works *really* well\", \"Scopri come generare musica digitale dal vivo: con Marco Giordano ti baster\\\\u00e0 poco per imparare ad utilizzare SonicPi,\\\\u2026\", \"It\\'s a great feeling seeing so many people letting this idea of \\\\\"high agency\\\\\" impact their lives for the better. [Thanks .]\", \"Individuals who were more sensitive to pain also experienced unfairness more intensely.\", \"I am committed to round up the most exhaustive coverage of noteworthy new psychology findings on the web. If you like the result, I would be very grateful for any support in keeping the service alive!  IBAN DE73 3701 0050 0147 9595 01 BIC: PBNKDEFFhttps://t.co/PIIcztREI1\", \"...but has the gov. adequately considered the NPV of an alternative northern \\\\u2018HS3\\\\u2019 (east to west) yet?\", \"People have the impression that they can make love feel stronger, but not weaker, at will.\", \"tl;dr- build up rare, difficult-to-obtain skills related to your \\\\\"passion\\\\\"- resist promotions, instead use skills to get roles where you have creative control- be cautious of taking on too much control without the hard skills to back it up\", \"For the kids out there: the only career advice you\\'ll ever needhttps://t.co/3Gn7ydYFHo\", \"A young and nervous George R. R. Martin talking about his book that no one cares about called \\\\\"Clash of the Kings\\\\\" in 1998\", \"Now Apple is trying to become more of an \\\\\"equity\\\\\" business with its focus on services -- instead of creating a new hit like the iPod, they will try to build payments, media etc infrastructure. New strategy... new problems.\", \"Interestingly, Apple is closer to the \\\\\"cash\\\\\" end of the spectrum. Throughout their history, their strategy has been to make high-margin hit products, built for consumers to pay big premiums for, with less emphasis on locking them into an ecosystem.\", \"Almost all tech companies that get called monopolies are \\\\\"equity\\\\\" businesses. Makes sense: building a unique service by definition means you have some sort of market power. Also, a \\\\\"cash\\\\\" business doesn\\'t last long enough to have to worry about these things.\", \"Something like Amazon is the opposite: totally unprofitable for several decades, but then able to rake in the profits after having built this extremely unique service. You have the opposite spending culture: wooden doors for tables, because all the profits are in the future.\", \"In software, there used to be an obvious distinction between \\\\\"cash\\\\\" and \\\\\"equity\\\\\" businesses. Classic video games were all cash -- a game would be a smash hit for a couple of years and make profits immediately. Example: the lavish spending culture at id Software &amp; Atari.\", \"example of the sort of new learning media  has been hinting at \\\\u2014 I found myself playing aimlessly with the inline simulations, noticing some interesting pattern, and then *immediately* seeing an explanation of *that* thing. I want this for EVERYTHING.\", \"Lambda School in one tweet\", \"A look at 10 NFL rookie sleepers who could surprise in 2019, by\", \"I profiled Sarah Friar, the CEO of Nextdoor and former CFO of Square who was born in a small village in Northern Ireland\\\\u2026\", \"Definitely one of the most entertaining talks at #lowcarbdenver, , fiber and \\\\u201ctoilet humor\\\\u201d as she put it. Plus p\\\\u2026\", \"\", \"Disagree- it\\\\u2019s more like 24hrs\", \"Third lawsuit loss. When will  get the message and stop selling Roundup:\\\\u26a1\\\\ufe0f \\\\u201cMonsanto ordered to pay up over $2 billion to California couple\\\\u201d\", \"Love it- the #Steakman theme song\", \"I guess if you were an options market maker you could say something to the effect of \\\\\"Liquidity in the options markets is societally beneficial because cheap hedging is a nice thing to have. We can offer that, in part, because some participants send us free money daily.\\\\\"\", \"\\\\\"Is it a deadweight loss?\\\\\"*shrug* It\\'s probably a subsidy to options market makers, since substantially every retail options trade crosses the spread, which is higher for most options than for most equities, without being motivated by market-superior knowledge regarding price.\", \"\\\\u2b07\\\\ufe0f\", \"I watched the Howard \\\\u201cDean Scream\\\\u201d and remember thinking \\\\u201cClearly, I did not just see what pundits claim to have seen.\\\\u201d I think I have been proven correct. I watched  on the BBC and had the same kind of experience: not a great moment, but also not what pundits claim.\", \"I\\\\u2019m pretty sure if I got a part time job delivering Amazon packages I could basically deliver packages to my own house.\", \"Brett Brown isn\\\\u2019t perfect. But he played 26 different players and 24 starting lineups this year, with his best 5 toget\\\\u2026\", \"If the boids get to see and interact with each other, I wonder if they will learn to cooperate or bump each other off the road.\", \"A lot of code schools are going out of business (we expect this to speed up) and are leaving recent grads hanging without job support. We\\\\u2019re trying to find a way Lambda School can help, but doing so is expensive, and so much money has already gone poof.Will think on it.\", \"They would probably include a) accredited investor or equivalent requirements for options trading rather than the simple self-certification required currently, b) restrictions on broker marketing, and probably c) disallow either all or a subset of single company securities.\", \"I have a certain degree of respect for that argument, but to the extent I buy it, it suggests a number of immediate rationalizations of regulations surrounding retail investor participation in the core financial markets.\", \"This is a different argument than \\\\\"90% of startups\\\\u2014actual companies operated in a more-or-less-competent fashion\\\\u2014fail, and this is a higher risk than we allow unsophisticated investors to tolerate.\\\\\"\", \"The best argument for the accredited investor rule is that, in the absence of it, promoters will manufacture companies which are difficult to cost-effectively distinguish from actual businesses but which functionally are not and use them to pick middle class\\' pockets.\", \"Thanks, most peeps have no clue what these numbers mean\", \"I have a generalized belief not widely shared among my friends that one is much more likely to create value with a large number of relatively small investments in firms than a small number of largest investments in Prestigious Projects (TM).\", \"I suppose one could make an argument that startup crowdfunding might be a potential option here; put a limit on how much folks can lose, give them a team they can root for, and keep the ecosystem *relatively* free of outright predation.\", \"Matt Levine on investing-as-gambling and how society should do something productive with it rather than experiencing a deadweight loss for random number generation.https://t.co/jYMv7RWV89\", \"LeBron James and his crew rip on Michael Rapoport\", \"\\\\u201cgot it.\\\\u201d it\\\\u2019s helpful to pay attention to the language. it is revealing!\", \"Steak + Fire + Ribeye = Mozart -Beyond Meat = Justin Bieber-Ribeye, ,\", \"What to do about Nature Machine Intelligence?\", \"I\\'m not sure you can draw *too* many conclusions from this without the base rates, but it is actually pretty remarkable just how much less child abuse is reported in households with married biological parents\", \"For a visualization of one way in which elite networks can form, see \\\\u201cpreferential attachment\\\\u201d model I posted about before\", \"Very nice post from  \\\\u2014 simple truths made explicit through agent-based modeling\", \"Does Joel Embiid get to keep his man card after yesterday\\'s postgame performance? Or should it be revoked? #EmbraceDebate\\\\u2026\", \"Media summit in NYC.\", \"Here Lies Brad, who died of Brad.\", \"I like how the tracks are randomly generated every time (similar to CarRacing-v0) to prevent overfitting to a particular track.\", \"I returned to the  to write a little something about the extraordinary devotion -- and good heart -- of Gunther Cunningham.\", \"Neuroevolution Reynolds Vehicles with TensorFlow.js and p5.js!Web Demo:\", \"And so it begins...  This is what 60 broadband data satellites look like, stacked for launch, many more than people th\\\\u2026\", \"Want to know what it looks like to be a journalist today, when the PR person to reporter ratio is 6 to 1? May I present the las\\\\u2026\"]'"
      ]
     },
     "execution_count": 19,
     "metadata": {},
     "output_type": "execute_result"
    }
   ],
   "source": [
    "%%time\n",
    "clean_timeline(TWITTER_ACCESS_TOKEN,TWITTER_ACCESS_TOKEN_SECRET)"
   ]
  },
  {
   "cell_type": "code",
   "execution_count": 20,
   "metadata": {},
   "outputs": [],
   "source": [
    "import asyncio\n",
    "from concurrent.futures import ThreadPoolExecutor\n",
    "import nest_asyncio\n",
    "nest_asyncio.apply()\n",
    "\n",
    "def get_timeline(TWITTER_ACCESS_TOKEN, TWITTER_ACCESS_TOKEN_SECRET):\n",
    "    # Create Twitter Connection\n",
    "    twitter_auth = tweepy.OAuthHandler(config('TWITTER_CONSUMER_KEY'),config('TWITTER_CONSUMER_SECRET'))\n",
    "    access_token = TWITTER_ACCESS_TOKEN\n",
    "    access_token_secret = TWITTER_ACCESS_TOKEN_SECRET\n",
    "    twitter_auth.set_access_token(access_token, access_token_secret)\n",
    "    global TWITTER\n",
    "    TWITTER = tweepy.API(twitter_auth)\n",
    "    \n",
    "    try:\n",
    "        home_timeline = TWITTER.home_timeline(count=200,\n",
    "                                         tweet_mode='extended',\n",
    "                                         exlude_rts=False)\n",
    "        return home_timeline\n",
    "\n",
    "    except tweepy.TweepError:\n",
    "        print(\"tweepy.TweepError\")\n",
    "        \n",
    "    except:\n",
    "        e = sys.exc_info()[0]\n",
    "        print(\"Error: %s\" % e)\n",
    "              \n",
    "\n",
    "def asycnio_process_tweet(session, full_tweet, tweet_list):\n",
    "    #strip username\n",
    "    tweet = full_tweet.full_text\n",
    "\n",
    "    tweet = re.sub(r'(?<=^|(?<=[^a-zA-Z0-9-_\\.]))@([A-Za-z]+[A-Za-z0-9-_]+)','',tweet)\n",
    "    #strip newlines and unicode characters that aren't formatted\n",
    "    tweet = re.sub(r'\\n|&gt;|RT :','',tweet)\n",
    "    #strip twitter urls from tweets\n",
    "    tweet = re.sub(r'(?<=^|(?<=[^a-zA-Z0-9-_\\.]))https://t.co/([A-Za-z0-9-_,\\']+)','',tweet)\n",
    "    #Remove emojis\n",
    "    RE_EMOJI = re.compile('[\\U00010000-\\U0010ffff]', flags=re.UNICODE)\n",
    "    tweet = RE_EMOJI.sub(r'', tweet)\n",
    "    #remove whitespace\n",
    "    tweet = tweet.strip()\n",
    "    tweet_list.append(tweet)\n",
    "\n",
    "async def get_data_asynchronous(TWITTER_ACCESS_TOKEN,TWITTER_ACCESS_TOKEN_SECRET):\n",
    "    home_timeline = get_timeline(TWITTER_ACCESS_TOKEN,TWITTER_ACCESS_TOKEN_SECRET)\n",
    "    tweet_list =[] \n",
    "    with ThreadPoolExecutor(max_workers=1) as executor:\n",
    "        with requests.Session() as session:\n",
    "            # Set any session parameters here before calling `fetch`\n",
    "\n",
    "            # Initialize the event loop        \n",
    "            loop = asyncio.get_event_loop()\n",
    "\n",
    "            # Use list comprehension to create a list of\n",
    "            # tasks to complete.\n",
    "            tasks = [ loop.run_in_executor(\n",
    "                executor, asycnio_process_tweet,*(session, full_tweet, tweet_list) \n",
    "            ) for full_tweet in home_timeline]\n",
    "            \n",
    "            # Initializes the tasks to run and awaits their results\n",
    "            for response in await asyncio.gather(*tasks):\n",
    "                pass\n",
    "    return tweet_list\n",
    "def execute_async_event_loop(TWITTER_ACCESS_TOKEN,TWITTER_ACCESS_TOKEN_SECRET):\n",
    "    \"\"\"Really couldn't think of a proper name. \n",
    "    This function does something analogous to compiling the get_data_asynchronously funciont,\n",
    "    Then it executre loop.\"\"\"\n",
    "    future = asyncio.create_task(get_data_asynchronous(TWITTER_ACCESS_TOKEN,TWITTER_ACCESS_TOKEN_SECRET))\n",
    "    loop = asyncio.get_event_loop()\n",
    "    loop.run_until_complete(future)"
   ]
  },
  {
   "cell_type": "code",
   "execution_count": 21,
   "metadata": {},
   "outputs": [
    {
     "name": "stdout",
     "output_type": "stream",
     "text": [
      "Wall time: 1.05 s\n"
     ]
    }
   ],
   "source": [
    "%%time\n",
    "tweet_list = []\n",
    "execute_async_event_loop(TWITTER_ACCESS_TOKEN, TWITTER_ACCESS_TOKEN_SECRET)"
   ]
  },
  {
   "cell_type": "code",
   "execution_count": null,
   "metadata": {},
   "outputs": [],
   "source": []
  },
  {
   "cell_type": "code",
   "execution_count": null,
   "metadata": {},
   "outputs": [],
   "source": []
  }
 ],
 "metadata": {
  "kernelspec": {
   "display_name": "Python 3",
   "language": "python",
   "name": "python3"
  },
  "language_info": {
   "codemirror_mode": {
    "name": "ipython",
    "version": 3
   },
   "file_extension": ".py",
   "mimetype": "text/x-python",
   "name": "python",
   "nbconvert_exporter": "python",
   "pygments_lexer": "ipython3",
   "version": "3.7.3"
  }
 },
 "nbformat": 4,
 "nbformat_minor": 2
}
