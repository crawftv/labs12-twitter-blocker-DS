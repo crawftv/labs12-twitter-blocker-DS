{
 "cells": [
  {
   "cell_type": "code",
   "execution_count": null,
   "metadata": {},
   "outputs": [],
   "source": []
  },
  {
   "cell_type": "code",
   "execution_count": 2,
   "metadata": {},
   "outputs": [],
   "source": [
    "from flask import Flask, request, render_template, jsonify, json\n",
    "from decouple import config\n",
    "from flask_cors import CORS\n",
    "import numpy as np\n",
    "import networkx as nx\n",
    "import tweepy\n",
    "from sklearn.feature_extraction.text import CountVectorizer\n",
    "import pandas as pd\n",
    "import re\n",
    "from collections import Counter\n",
    "TWITTER_AUTH =tweepy.OAuthHandler(config('TWITTER_CONSUMER_KEY'),config('TWITTER_CONSUMER_SECRET'))\n",
    "TWITTER_AUTH.set_access_token(config('TWITTER_ACCESS_TOKEN'),config('TWITTER_ACCESS_TOKEN_SECRET'))\n",
    "TWITTER = tweepy.API(TWITTER_AUTH)\n",
    "\n",
    "def get_first_user_interactions(search):\n",
    "    twitter_user =TWITTER.get_user(search)\n",
    "    tweets = twitter_user.timeline(\n",
    "                      count =200,\n",
    "                      exclude_replies = False,\n",
    "                      include_rts=True,\n",
    "                      tweet_mode='extended'\n",
    "                      )\n",
    "    #b is a transistion variable\n",
    "    b = [ i.full_text for i in tweets ]\n",
    "    b = \" \".join(b)\n",
    "    b = b.lower()\n",
    "    b = b.replace(search, \"\")\n",
    "    interactions =re.findall(r'(?<=^|(?<=[^a-zA-Z0-9-_\\.]))@([A-Za-z]+[A-Za-z0-9-_]+)',b)\n",
    "    return [ i[0] for i in Counter(interactions).most_common(10) ]\n",
    "\n",
    "def get_first_user_connections(search, interactions_list):\n",
    "    twitter_user =TWITTER.get_user(search)\n",
    "    tweets = twitter_user.timeline(\n",
    "                  count =200,\n",
    "                  exclude_replies = False,\n",
    "                  include_rts=True,\n",
    "                  tweet_mode='extended'\n",
    "                  )\n",
    "    #b is a transistion variable\n",
    "    b = [ i.full_text for i in tweets ]\n",
    "    b = \" \".join(b)\n",
    "    b = b.lower()\n",
    "    b = b.replace(search, \"\")\n",
    "    interactions = re.findall(r'(?<=^|(?<=[^a-zA-Z0-9-_\\.]))@([A-Za-z]+[A-Za-z0-9-_]+)',b)\n",
    "    interactions = \" \".join(interactions)\n",
    "    interactions_list.append(interactions)\n",
    "    return interactions_list"
   ]
  },
  {
   "cell_type": "code",
   "execution_count": 5,
   "metadata": {},
   "outputs": [],
   "source": [
    "def get_network(user):\n",
    "#     user = request.values[\"user\"]\n",
    "#     user = user.replace(\"@\",\"\")\n",
    "    index =  get_first_user_interactions(user)\n",
    "    interactions_list = []\n",
    "    for i in index:\n",
    "        get_first_user_connections(user, interactions_list)\n",
    "    #turn the interactions into a dataframe\n",
    "    vectorizer = CountVectorizer(min_df=2)\n",
    "    X = vectorizer.fit_transform(interactions_list)\n",
    "    display_df = pd.DataFrame(X.toarray(),columns=vectorizer.get_feature_names(), index=index)\n",
    "    #create a graph and add edges\n",
    "    DG = nx.MultiGraph()\n",
    "    for i in display_df.index.values:\n",
    "         for j in display_df.columns:\n",
    "            if display_df[j].loc > 0:\n",
    "                DG.add_edge(j,i,weight = np.sqrt(display_df[j].loc[i] ))\n",
    "            else:\n",
    "                pass\n",
    "    #create json nodes from graph\n",
    "    sl_nodes = nx.spectral_layout(DG)\n",
    "    nodes_dicts = [{\"id\": i, \"label\": i, \"x\":sl_nodes[i][0],\n",
    "    \"y\":sl_nodes[i][1] } for i in list(sl_nodes) ]\n",
    "    #create json edges from graph\n",
    "    edges = list(DG.edges.data())\n",
    "    edges_dicts = [ {\"id\": edge[0]+\" \"+ edge[1],\"source\":\n",
    "    edge[0],\"target\":edge[1]} for edge in edges]\n",
    "    edge_json = { \"edges\" : edges_dict}\n",
    "    nodes_json = json.dumps(nodes_dicts)\n",
    "    edges_json = json.dumps(edges_dicts)\n",
    "    return render_template(\"network.html\", nodes = nodes_json, edges = edges_json, search = search)"
   ]
  },
  {
   "cell_type": "code",
   "execution_count": 7,
   "metadata": {},
   "outputs": [
    {
     "ename": "TypeError",
     "evalue": "'>' not supported between instances of '_LocIndexer' and 'int'",
     "output_type": "error",
     "traceback": [
      "\u001b[1;31m---------------------------------------------------------------------------\u001b[0m",
      "\u001b[1;31mTypeError\u001b[0m                                 Traceback (most recent call last)",
      "\u001b[1;32m<ipython-input-7-dada063a5995>\u001b[0m in \u001b[0;36m<module>\u001b[1;34m()\u001b[0m\n\u001b[1;32m----> 1\u001b[1;33m \u001b[0mget_network\u001b[0m\u001b[1;33m(\u001b[0m\u001b[1;34m\"austen\"\u001b[0m\u001b[1;33m)\u001b[0m\u001b[1;33m\u001b[0m\u001b[0m\n\u001b[0m",
      "\u001b[1;32m<ipython-input-5-050540b5a00b>\u001b[0m in \u001b[0;36mget_network\u001b[1;34m(user)\u001b[0m\n\u001b[0;32m     15\u001b[0m     \u001b[1;32mfor\u001b[0m \u001b[0mi\u001b[0m \u001b[1;32min\u001b[0m \u001b[0mdisplay_df\u001b[0m\u001b[1;33m.\u001b[0m\u001b[0mindex\u001b[0m\u001b[1;33m.\u001b[0m\u001b[0mvalues\u001b[0m\u001b[1;33m:\u001b[0m\u001b[1;33m\u001b[0m\u001b[0m\n\u001b[0;32m     16\u001b[0m          \u001b[1;32mfor\u001b[0m \u001b[0mj\u001b[0m \u001b[1;32min\u001b[0m \u001b[0mdisplay_df\u001b[0m\u001b[1;33m.\u001b[0m\u001b[0mcolumns\u001b[0m\u001b[1;33m:\u001b[0m\u001b[1;33m\u001b[0m\u001b[0m\n\u001b[1;32m---> 17\u001b[1;33m             \u001b[1;32mif\u001b[0m \u001b[0mdisplay_df\u001b[0m\u001b[1;33m[\u001b[0m\u001b[0mj\u001b[0m\u001b[1;33m]\u001b[0m\u001b[1;33m.\u001b[0m\u001b[0mloc\u001b[0m \u001b[1;33m>\u001b[0m \u001b[1;36m0\u001b[0m\u001b[1;33m:\u001b[0m\u001b[1;33m\u001b[0m\u001b[0m\n\u001b[0m\u001b[0;32m     18\u001b[0m                 \u001b[0mDG\u001b[0m\u001b[1;33m.\u001b[0m\u001b[0madd_edge\u001b[0m\u001b[1;33m(\u001b[0m\u001b[0mj\u001b[0m\u001b[1;33m,\u001b[0m\u001b[0mi\u001b[0m\u001b[1;33m,\u001b[0m\u001b[0mweight\u001b[0m \u001b[1;33m=\u001b[0m \u001b[0mnp\u001b[0m\u001b[1;33m.\u001b[0m\u001b[0msqrt\u001b[0m\u001b[1;33m(\u001b[0m\u001b[0mdisplay_df\u001b[0m\u001b[1;33m[\u001b[0m\u001b[0mj\u001b[0m\u001b[1;33m]\u001b[0m\u001b[1;33m.\u001b[0m\u001b[0mloc\u001b[0m\u001b[1;33m[\u001b[0m\u001b[0mi\u001b[0m\u001b[1;33m]\u001b[0m \u001b[1;33m)\u001b[0m\u001b[1;33m)\u001b[0m\u001b[1;33m\u001b[0m\u001b[0m\n\u001b[0;32m     19\u001b[0m             \u001b[1;32melse\u001b[0m\u001b[1;33m:\u001b[0m\u001b[1;33m\u001b[0m\u001b[0m\n",
      "\u001b[1;31mTypeError\u001b[0m: '>' not supported between instances of '_LocIndexer' and 'int'"
     ]
    }
   ],
   "source": [
    "get_network(\"austen\")"
   ]
  },
  {
   "cell_type": "code",
   "execution_count": null,
   "metadata": {},
   "outputs": [],
   "source": []
  }
 ],
 "metadata": {
  "kernelspec": {
   "display_name": "Python 3",
   "language": "python",
   "name": "python3"
  },
  "language_info": {
   "codemirror_mode": {
    "name": "ipython",
    "version": 3
   },
   "file_extension": ".py",
   "mimetype": "text/x-python",
   "name": "python",
   "nbconvert_exporter": "python",
   "pygments_lexer": "ipython3",
   "version": "3.6.5"
  }
 },
 "nbformat": 4,
 "nbformat_minor": 2
}
