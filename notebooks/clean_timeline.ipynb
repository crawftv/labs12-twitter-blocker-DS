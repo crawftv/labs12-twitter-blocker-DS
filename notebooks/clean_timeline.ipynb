{
 "cells": [
  {
   "cell_type": "code",
   "execution_count": 1,
   "metadata": {},
   "outputs": [],
   "source": [
    "import tweepy\n",
    "import re\n",
    "from decouple import config\n",
    "import json\n",
    "import requests\n",
    "import sys"
   ]
  },
  {
   "cell_type": "code",
   "execution_count": 2,
   "metadata": {},
   "outputs": [],
   "source": [
    "TWITTER_AUTH = tweepy.OAuthHandler(config('TWITTER_CONSUMER_KEY'),config('TWITTER_CONSUMER_SECRET'))\n",
    "\n",
    "TWITTER_AUTH.set_access_token(config('TWITTER_ACCESS_TOKEN'),config('TWITTER_ACCESS_TOKEN_SECRET'))\n",
    "\n",
    "TWITTER = tweepy.API(TWITTER_AUTH)"
   ]
  },
  {
   "cell_type": "code",
   "execution_count": 3,
   "metadata": {},
   "outputs": [],
   "source": [
    "data = {\"description\":\"i hate this stuff\"}\n",
    "headers= {'Content-type':\"application/json\",\n",
    "           \"cache-control\":\"no-cache\"\n",
    "          }\n",
    "data= json.dumps(data)\n"
   ]
  },
  {
   "cell_type": "code",
   "execution_count": 44,
   "metadata": {},
   "outputs": [
    {
     "name": "stdout",
     "output_type": "stream",
     "text": [
      "Wall time: 1.55 s\n"
     ]
    }
   ],
   "source": [
    "%%time\n",
    "r = requests.post(\"http://35.192.71.216:5000/\", data = data, headers = headers)"
   ]
  },
  {
   "cell_type": "code",
   "execution_count": 47,
   "metadata": {},
   "outputs": [
    {
     "data": {
      "text/plain": [
       "{'results': {'identity_hate': 0.0009892451344057918,\n",
       "  'insult': 0.003654920496046543,\n",
       "  'obscene': 0.028357096016407013,\n",
       "  'severe_toxic': 0.0008791135041974485,\n",
       "  'threat': 0.0010434689465910196,\n",
       "  'toxic': 0.8275536894798279}}"
      ]
     },
     "execution_count": 47,
     "metadata": {},
     "output_type": "execute_result"
    }
   ],
   "source": [
    "r.json()"
   ]
  },
  {
   "cell_type": "code",
   "execution_count": 55,
   "metadata": {},
   "outputs": [],
   "source": [
    "def bert_request(tweet_text):\n",
    "    data = {\"description\":\"i hate this stuff\"}\n",
    "    headers= {'Content-type':\"application/json\",\n",
    "               \"cache-control\":\"no-cache\"\n",
    "              }\n",
    "    data= json.dumps(data)\n",
    "    return requests.post(\"http://35.192.71.216:5000/\", data = data, headers = headers)\n",
    "\n",
    "def process_tweet(full_tweet):\n",
    "    #strip username\n",
    "    tweet = full_tweet.full_text\n",
    "\n",
    "    tweet = re.sub(r'(?<=^|(?<=[^a-zA-Z0-9-_\\.]))@([A-Za-z]+[A-Za-z0-9-_]+)','',tweet)\n",
    "    #strip newlines and unicode characters that aren't formatted\n",
    "    tweet = re.sub(r'\\n|&gt;|RT :','',tweet)\n",
    "    #strip twitter urls from tweets\n",
    "    tweet = re.sub(r'(?<=^|(?<=[^a-zA-Z0-9-_\\.]))https://t.co/([A-Za-z0-9-_,\\']+)','',tweet)\n",
    "    #Remove emojis\n",
    "    RE_EMOJI = re.compile('[\\U00010000-\\U0010ffff]', flags=re.UNICODE)\n",
    "    tweet = RE_EMOJI.sub(r'', tweet)\n",
    "    #remove whitespace\n",
    "    tweet = tweet.strip()\n",
    "    #make api request for toxicity analysis\n",
    "    bert_result = bert_request(tweet).json()\n",
    "    \n",
    "    tweet_info = {\"tweet\": \n",
    "                     {\"user_id\": full_tweet.user.id,\n",
    "                      \"user_name\" : full_tweet.user.name,\n",
    "                      \"tweet\": full_tweet.full_text,\n",
    "                      \"tweet_id\" : full_tweet.id_str,\n",
    "                     \"bert_output\": bert_result}\n",
    "                    }\n",
    "    return tweet_info\n",
    "    \n",
    "\n",
    "def clean_timeline(TWITTER_ACCESS_TOKEN,TWITTER_ACCESS_TOKEN_SECRET):\n",
    "    # Create Twitter Connection\n",
    "    twitter_auth = tweepy.OAuthHandler(config('TWITTER_CONSUMER_KEY'),config('TWITTER_CONSUMER_SECRET'))\n",
    "    access_token = TWITTER_ACCESS_TOKEN\n",
    "    access_token_secret = TWITTER_ACCESS_TOKEN_SECRET\n",
    "    twitter_auth.set_access_token(access_token, access_token_secret)\n",
    "    global TWITTER\n",
    "    TWITTER = tweepy.API(twitter_auth)\n",
    "    \n",
    "    try:\n",
    "        home_timeline = TWITTER.home_timeline(count=20,\n",
    "                                         tweet_mode='extended',\n",
    "                                         exlude_rts=False)\n",
    "        timeline = [ process_tweet(full_tweet)\n",
    "                   for full_tweet in home_timeline]\n",
    "        return json.dumps(timeline)\n",
    "\n",
    "    except tweepy.TweepError:\n",
    "        print(\"tweepy.TweepError\")\n",
    "        \n",
    "    except:\n",
    "        e = sys.exc_info()[0]\n",
    "        print(\"Error: %s\" % e)\n",
    "        \n",
    "        \n",
    "def process_request(request):\n",
    "    \"\"\" Responds to a GET request with \"Hello world!\". Forbids a PUT request.\n",
    "    Args:\n",
    "        request (flask.Request): The request object.\n",
    "        <http://flask.pocoo.org/docs/1.0/api/#flask.Request>\n",
    "    Returns:\n",
    "        The response text, or any set of values that can be turned into a\n",
    "         Response object using `make_response`\n",
    "        <http://flask.pocoo.org/docs/1.0/api/#flask.Flask.make_response>.\n",
    "    \"\"\"\n",
    "    from flask import abort\n",
    "\n",
    "    content_type = request.headers['content-type']\n",
    "    request_json = request.get_json(silent=True)\n",
    "    request_args = request.args\n",
    "\n",
    "    if content_type == 'application/json': \n",
    "        request_json = request.get_json(silent=True)\n",
    "        # TWITTER_ACCESS_TOKEN check/set/error\n",
    "        if request_json and 'TWITTER_ACCESS_TOKEN' in request_json:\n",
    "            TWITTER_ACCESS_TOKEN = request_json['TWITTER_ACCESS_TOKEN']\n",
    "        else:\n",
    "            raise ValueError(\"Missing a 'TWITTER_ACCESS_TOKEN'\")\n",
    "        # TWITTER_ACCESS_TOKEN_SECRET check/set/error\n",
    "        if request_json and 'TWITTER_ACCESS_TOKEN_SECRET' in request_json:\n",
    "            TWITTER_ACCESS_TOKEN_SECRET = request_json['TWITTER_ACCESS_TOKEN_SECRET']\n",
    "        else:\n",
    "            raise ValueError(\"Missing a 'TWITTER_ACCESS_TOKEN_SECRET'\")\n",
    "        \n",
    "        # Call the function for the POST request. \n",
    "        if request.method == 'POST':\n",
    "            return clean_timeline(TWITTER_ACCESS_TOKEN,TWITTER_ACCESS_TOKEN_SECRET)\n",
    "    else:\n",
    "        return abort(405)"
   ]
  },
  {
   "cell_type": "code",
   "execution_count": 56,
   "metadata": {},
   "outputs": [
    {
     "name": "stdout",
     "output_type": "stream",
     "text": [
      "Wall time: 31.4 s\n"
     ]
    }
   ],
   "source": [
    "%%time\n",
    "u = clean_timeline(config('TWITTER_ACCESS_TOKEN'),config('TWITTER_ACCESS_TOKEN_SECRET'))"
   ]
  },
  {
   "cell_type": "code",
   "execution_count": null,
   "metadata": {},
   "outputs": [],
   "source": []
  },
  {
   "cell_type": "code",
   "execution_count": null,
   "metadata": {},
   "outputs": [],
   "source": []
  }
 ],
 "metadata": {
  "kernelspec": {
   "display_name": "Python 3",
   "language": "python",
   "name": "python3"
  },
  "language_info": {
   "codemirror_mode": {
    "name": "ipython",
    "version": 3
   },
   "file_extension": ".py",
   "mimetype": "text/x-python",
   "name": "python",
   "nbconvert_exporter": "python",
   "pygments_lexer": "ipython3",
   "version": "3.6.5"
  }
 },
 "nbformat": 4,
 "nbformat_minor": 2
}
