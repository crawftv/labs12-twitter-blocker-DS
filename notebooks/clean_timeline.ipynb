{
 "cells": [
  {
   "cell_type": "code",
   "execution_count": 2,
   "metadata": {},
   "outputs": [],
   "source": [
    "import tweepy\n",
    "import re\n",
    "from decouple import config\n",
    "import json\n",
    "import requests\n",
    "import sys"
   ]
  },
  {
   "cell_type": "code",
   "execution_count": 3,
   "metadata": {},
   "outputs": [],
   "source": [
    "TWITTER_AUTH = tweepy.OAuthHandler(config('TWITTER_CONSUMER_KEY'),config('TWITTER_CONSUMER_SECRET'))\n",
    "\n",
    "TWITTER_AUTH.set_access_token(config('TWITTER_ACCESS_TOKEN'),config('TWITTER_ACCESS_TOKEN_SECRET'))\n",
    "\n",
    "TWITTER = tweepy.API(TWITTER_AUTH)"
   ]
  },
  {
   "cell_type": "code",
   "execution_count": 3,
   "metadata": {},
   "outputs": [],
   "source": [
    "data = {\"description\":\"i hate this stuff\"}\n",
    "headers= {'Content-type':\"application/json\",\n",
    "           \"cache-control\":\"no-cache\"\n",
    "          }\n",
    "data= json.dumps(data)\n"
   ]
  },
  {
   "cell_type": "code",
   "execution_count": 44,
   "metadata": {},
   "outputs": [
    {
     "name": "stdout",
     "output_type": "stream",
     "text": [
      "Wall time: 1.55 s\n"
     ]
    }
   ],
   "source": [
    "%%time\n",
    "r = requests.post(\"http://35.192.71.216:5000/\", data = data, headers = headers)"
   ]
  },
  {
   "cell_type": "code",
   "execution_count": null,
   "metadata": {},
   "outputs": [],
   "source": []
  },
  {
   "cell_type": "code",
   "execution_count": 43,
   "metadata": {},
   "outputs": [],
   "source": [
    "import tweepy\n",
    "import re\n",
    "from decouple import config\n",
    "import json\n",
    "import requests\n",
    "import sys\n",
    "\n",
    "def bert_request(tweet_text):\n",
    "    data = {\"description\":tweet_text}\n",
    "    headers= {'Content-type':\"application/json\",\n",
    "               \"cache-control\":\"no-cache\"\n",
    "              }\n",
    "    data= json.dumps(data)\n",
    "    return requests.post(\"http://35.192.71.216:5000/\", data = data, headers = headers)\n",
    "\n",
    "def process_tweet(full_tweet):\n",
    "    #strip username\n",
    "    tweet = full_tweet.full_text\n",
    "\n",
    "    tweet = re.sub(r'(?<=^|(?<=[^a-zA-Z0-9-_\\.]))@([A-Za-z]+[A-Za-z0-9-_]+)','',tweet)\n",
    "    #strip newlines and unicode characters that aren't formatted\n",
    "    tweet = re.sub(r'\\n|&gt;|RT :','',tweet)\n",
    "    #strip twitter urls from tweets\n",
    "    tweet = re.sub(r'(?<=^|(?<=[^a-zA-Z0-9-_\\.]))https://t.co/([A-Za-z0-9-_,\\']+)','',tweet)\n",
    "    #Remove emojis\n",
    "    RE_EMOJI = re.compile('[\\U00010000-\\U0010ffff]', flags=re.UNICODE)\n",
    "    tweet = RE_EMOJI.sub(r'', tweet)\n",
    "    #remove whitespace\n",
    "    tweet = tweet.strip()\n",
    "    #make api request for toxicity analysis\n",
    "    bert_result = bert_request(tweet).json()\n",
    "    \n",
    "    tweet_info = {\"tweet\": \n",
    "                     {\"user_id\": full_tweet.user.id,\n",
    "                      \"user_name\" : full_tweet.user.name,\n",
    "                      \"tweet\": full_tweet.full_text,\n",
    "                      \"tweet_id\" : full_tweet.id_str,\n",
    "                     \"bert_output\": bert_result,\n",
    "                     \"tweet\":tweet}\n",
    "                    }\n",
    "    return tweet_info\n",
    "    \n",
    "\n",
    "def clean_timeline(TWITTER_ACCESS_TOKEN,TWITTER_ACCESS_TOKEN_SECRET):\n",
    "    # Create Twitter Connection\n",
    "    twitter_auth = tweepy.OAuthHandler(config('TWITTER_CONSUMER_KEY'),config('TWITTER_CONSUMER_SECRET'))\n",
    "    access_token = TWITTER_ACCESS_TOKEN\n",
    "    access_token_secret = TWITTER_ACCESS_TOKEN_SECRET\n",
    "    twitter_auth.set_access_token(access_token, access_token_secret)\n",
    "    global TWITTER\n",
    "    TWITTER = tweepy.API(twitter_auth)\n",
    "    \n",
    "    try:\n",
    "        home_timeline = TWITTER.home_timeline(count=20,\n",
    "                                         tweet_mode='extended',\n",
    "                                         exlude_rts=False)\n",
    "        timeline = [ process_tweet(full_tweet)\n",
    "                   for full_tweet in home_timeline]\n",
    "        return json.dumps(timeline)\n",
    "\n",
    "    except tweepy.TweepError:\n",
    "        print(\"tweepy.TweepError\")\n",
    "        \n",
    "    except:\n",
    "        e = sys.exc_info()[0]\n",
    "        print(\"Error: %s\" % e)\n",
    "        \n",
    "        \n",
    "def process_request(request):\n",
    "    \"\"\" Responds to a GET request with \"Hello world!\". Forbids a PUT request.\n",
    "    Args:\n",
    "        request (flask.Request): The request object.\n",
    "        <http://flask.pocoo.org/docs/1.0/api/#flask.Request>\n",
    "    Returns:\n",
    "        The response text, or any set of values that can be turned into a\n",
    "         Response object using `make_response`\n",
    "        <http://flask.pocoo.org/docs/1.0/api/#flask.Flask.make_response>.\n",
    "    \"\"\"\n",
    "    from flask import abort\n",
    "\n",
    "    content_type = request.headers['content-type']\n",
    "    request_json = request.get_json(silent=True)\n",
    "    request_args = request.args\n",
    "\n",
    "    if content_type == 'application/json': \n",
    "        request_json = request.get_json(silent=True)\n",
    "        # TWITTER_ACCESS_TOKEN check/set/error\n",
    "        if request_json and 'TWITTER_ACCESS_TOKEN' in request_json:\n",
    "            TWITTER_ACCESS_TOKEN = request_json['TWITTER_ACCESS_TOKEN']\n",
    "        else:\n",
    "            raise ValueError(\"Missing a 'TWITTER_ACCESS_TOKEN'\")\n",
    "        # TWITTER_ACCESS_TOKEN_SECRET check/set/error\n",
    "        if request_json and 'TWITTER_ACCESS_TOKEN_SECRET' in request_json:\n",
    "            TWITTER_ACCESS_TOKEN_SECRET = request_json['TWITTER_ACCESS_TOKEN_SECRET']\n",
    "        else:\n",
    "            raise ValueError(\"Missing a 'TWITTER_ACCESS_TOKEN_SECRET'\")\n",
    "        \n",
    "        # Call the function for the POST request. \n",
    "        if request.method == 'POST':\n",
    "            return clean_timeline(TWITTER_ACCESS_TOKEN,TWITTER_ACCESS_TOKEN_SECRET)\n",
    "    else:\n",
    "        return abort(405)"
   ]
  },
  {
   "cell_type": "code",
   "execution_count": null,
   "metadata": {},
   "outputs": [],
   "source": []
  },
  {
   "cell_type": "markdown",
   "metadata": {},
   "source": [
    "## TEST"
   ]
  },
  {
   "cell_type": "code",
   "execution_count": 51,
   "metadata": {},
   "outputs": [
    {
     "name": "stdout",
     "output_type": "stream",
     "text": [
      "Wall time: 31.8 s\n"
     ]
    }
   ],
   "source": [
    "%%time\n",
    "u = clean_timeline(config('TWITTER_ACCESS_TOKEN'),config('TWITTER_ACCESS_TOKEN_SECRET'))"
   ]
  },
  {
   "cell_type": "code",
   "execution_count": 52,
   "metadata": {},
   "outputs": [],
   "source": [
    "u = json.loads(u)"
   ]
  },
  {
   "cell_type": "code",
   "execution_count": 37,
   "metadata": {},
   "outputs": [],
   "source": [
    "home_timeline = TWITTER.home_timeline(count=20,\n",
    "                                         tweet_mode='extended',\n",
    "                                         exlude_rts=False)"
   ]
  },
  {
   "cell_type": "code",
   "execution_count": 44,
   "metadata": {},
   "outputs": [
    {
     "data": {
      "text/plain": [
       "{'tweet': {'user_id': 50771088,\n",
       "  'user_name': 'Mick Shaffer',\n",
       "  'tweet': \"Owings striking out against a position player isn't going to help his rep. I'm a journalist so I can sniff out stuff like that.\",\n",
       "  'tweet_id': '1125955943823544320',\n",
       "  'bert_output': {'results': {'identity_hate': 0.00013447334640659392,\n",
       "    'insult': 0.00019758346024900675,\n",
       "    'obscene': 0.00015612311835866421,\n",
       "    'severe_toxic': 0.0001237120886798948,\n",
       "    'threat': 9.398273687111214e-05,\n",
       "    'toxic': 0.0003531617112457752}}}}"
      ]
     },
     "execution_count": 44,
     "metadata": {},
     "output_type": "execute_result"
    }
   ],
   "source": [
    "process_tweet(home_timeline[0])"
   ]
  },
  {
   "cell_type": "code",
   "execution_count": null,
   "metadata": {},
   "outputs": [],
   "source": []
  },
  {
   "cell_type": "code",
   "execution_count": 53,
   "metadata": {},
   "outputs": [],
   "source": [
    "headers = {\"Content-Type\":\"application/json\"}\n",
    "body = {\"TWITTER_ACCESS_TOKEN\": config('TWITTER_ACCESS_TOKEN'),\n",
    "        \"TWITTER_ACCESS_TOKEN_SECRET\": config('TWITTER_ACCESS_TOKEN_SECRET')\n",
    "        }"
   ]
  },
  {
   "cell_type": "code",
   "execution_count": 54,
   "metadata": {},
   "outputs": [
    {
     "name": "stdout",
     "output_type": "stream",
     "text": [
      "Wall time: 30.8 s\n"
     ]
    }
   ],
   "source": [
    "%%time\n",
    "r = requests.post(\"https://us-central1-twitter-bert-models.cloudfunctions.net/function-1\",\n",
    "                  headers=headers,\n",
    "                  data=json.dumps(body))"
   ]
  },
  {
   "cell_type": "code",
   "execution_count": 55,
   "metadata": {},
   "outputs": [],
   "source": [
    "r2 = r.json()"
   ]
  },
  {
   "cell_type": "code",
   "execution_count": 56,
   "metadata": {},
   "outputs": [
    {
     "data": {
      "text/plain": [
       "{'tweet': {'user_id': 23909137,\n",
       "  'user_name': 'Larry Brown',\n",
       "  'tweet': 'Drake, Raptors fans troll Joel Embiid with airplane in Game 5 https://t.co/hjh8KFHR4z',\n",
       "  'tweet_id': '1125959710362849281',\n",
       "  'bert_output': {'results': {'identity_hate': 0.00010662349814083427,\n",
       "    'insult': 0.0002195992274209857,\n",
       "    'obscene': 0.00018712588644120842,\n",
       "    'severe_toxic': 0.00010429355461383238,\n",
       "    'threat': 7.004194776527584e-05,\n",
       "    'toxic': 0.0005336005124263465}}}}"
      ]
     },
     "execution_count": 56,
     "metadata": {},
     "output_type": "execute_result"
    }
   ],
   "source": [
    "r2[0]"
   ]
  },
  {
   "cell_type": "code",
   "execution_count": 57,
   "metadata": {},
   "outputs": [
    {
     "data": {
      "text/plain": [
       "[{'user_id': 23909137,\n",
       "  'user_name': 'Larry Brown',\n",
       "  'tweet': 'Drake, Raptors fans troll Joel Embiid with airplane in Game 5 https://t.co/hjh8KFHR4z',\n",
       "  'tweet_id': '1125959710362849281',\n",
       "  'bert_output': {'results': {'identity_hate': 0.00010662349814083427,\n",
       "    'insult': 0.0002195992274209857,\n",
       "    'obscene': 0.00018712588644120842,\n",
       "    'severe_toxic': 0.00010429355461383238,\n",
       "    'threat': 7.004194776527584e-05,\n",
       "    'toxic': 0.0005336005124263465}}},\n",
       " {'user_id': 8496762,\n",
       "  'user_name': 'tylercowen',\n",
       "  'tweet': 'RT @pamela_herd: While Trump should release his tax returns, I am not thrilled that the NYT used de-identified publicly released data to do…',\n",
       "  'tweet_id': '1125959002880450560',\n",
       "  'bert_output': {'results': {'identity_hate': 0.00016027066158130765,\n",
       "    'insult': 0.00021916520199738443,\n",
       "    'obscene': 0.0001547282445244491,\n",
       "    'severe_toxic': 0.0001458178012399003,\n",
       "    'threat': 0.00011751330021070316,\n",
       "    'toxic': 0.00033231236739084125}}},\n",
       " {'user_id': 16396078,\n",
       "  'user_name': 'Nate Bargatze',\n",
       "  'tweet': 'RT @LargoLosAngeles: Tomorrow night is growing into a tsunami of comedy and music...joining @nickthune and #DamienJurado will be @chelseape…',\n",
       "  'tweet_id': '1125957139111890944',\n",
       "  'bert_output': {'results': {'identity_hate': 0.00013242011482361704,\n",
       "    'insult': 0.0001986105926334858,\n",
       "    'obscene': 0.00017196692351717502,\n",
       "    'severe_toxic': 0.0001229296176461503,\n",
       "    'threat': 9.164847142528743e-05,\n",
       "    'toxic': 0.000372445210814476}}},\n",
       " {'user_id': 50771088,\n",
       "  'user_name': 'Mick Shaffer',\n",
       "  'tweet': 'Royals bullpen all of a sudden with a 10-run, 9th-inning lead. https://t.co/S3hDSHTsM1',\n",
       "  'tweet_id': '1125957060309471237',\n",
       "  'bert_output': {'results': {'identity_hate': 0.00011926249862881377,\n",
       "    'insult': 0.00020622869487851858,\n",
       "    'obscene': 0.00017971500346902758,\n",
       "    'severe_toxic': 0.00011344004451530054,\n",
       "    'threat': 8.176066330634058e-05,\n",
       "    'toxic': 0.0004764556942973286}}},\n",
       " {'user_id': 50771088,\n",
       "  'user_name': 'Mick Shaffer',\n",
       "  'tweet': \"Owings striking out against a position player isn't going to help his rep. I'm a journalist so I can sniff out stuff like that.\",\n",
       "  'tweet_id': '1125955943823544320',\n",
       "  'bert_output': {'results': {'identity_hate': 0.00013447334640659392,\n",
       "    'insult': 0.00019758346024900675,\n",
       "    'obscene': 0.00015612311835866421,\n",
       "    'severe_toxic': 0.0001237120886798948,\n",
       "    'threat': 9.398273687111214e-05,\n",
       "    'toxic': 0.0003531617112457752}}},\n",
       " {'user_id': 87829185,\n",
       "  'user_name': 'B. Miller',\n",
       "  'tweet': 'The Blues have like 8 players that are outplaying every single Star not named Ben Bishop.',\n",
       "  'tweet_id': '1125953117219110913',\n",
       "  'bert_output': {'results': {'identity_hate': 0.00012210482964292169,\n",
       "    'insult': 0.0002008514857152477,\n",
       "    'obscene': 0.00016827350191306323,\n",
       "    'severe_toxic': 0.00011558688129298389,\n",
       "    'threat': 8.690800314070657e-05,\n",
       "    'toxic': 0.0003896246780641377}}},\n",
       " {'user_id': 23909137,\n",
       "  'user_name': 'Larry Brown',\n",
       "  'tweet': 'Shaq eviscerates Joel Embiid over ‘unacceptable’ performance, Charles Barkley joins in too https://t.co/QXBjBkBsG3',\n",
       "  'tweet_id': '1125952459812196355',\n",
       "  'bert_output': {'results': {'identity_hate': 0.00010765627666842192,\n",
       "    'insult': 0.00024648886756040156,\n",
       "    'obscene': 0.0002521742426324636,\n",
       "    'severe_toxic': 0.00010002050112234429,\n",
       "    'threat': 6.639784260187298e-05,\n",
       "    'toxic': 0.0010320392902940512}}},\n",
       " {'user_id': 23909137,\n",
       "  'user_name': 'Larry Brown',\n",
       "  'tweet': 'Nuggets coach Michael Malone advocated for change after the Denver area school shooting today https://t.co/2WyC9hHT09',\n",
       "  'tweet_id': '1125949154633474049',\n",
       "  'bert_output': {'results': {'identity_hate': 0.00012356953811831772,\n",
       "    'insult': 0.00021278305212035775,\n",
       "    'obscene': 0.0002087560569634661,\n",
       "    'severe_toxic': 0.00012069222430000082,\n",
       "    'threat': 8.42850495246239e-05,\n",
       "    'toxic': 0.00044954291661269963}}},\n",
       " {'user_id': 3765572533,\n",
       "  'user_name': 'Dr Shawn Baker \\U0001f969',\n",
       "  'tweet': 'On Patreon https://t.co/FnVPfmvuLS now, otherwise it will be available in about 3.5 weeks https://t.co/oV4s7FRcOl',\n",
       "  'tweet_id': '1125948770930180098',\n",
       "  'bert_output': {'results': {'identity_hate': 0.0001530514855403453,\n",
       "    'insult': 0.0002006887661991641,\n",
       "    'obscene': 0.00014834738976787776,\n",
       "    'severe_toxic': 0.00013629264140035957,\n",
       "    'threat': 0.00011549785995157436,\n",
       "    'toxic': 0.000317231344524771}}},\n",
       " {'user_id': 50771088,\n",
       "  'user_name': 'Mick Shaffer',\n",
       "  'tweet': 'Multiple grannies are fun. #royals https://t.co/KspVPhcAOz',\n",
       "  'tweet_id': '1125947867166859264',\n",
       "  'bert_output': {'results': {'identity_hate': 0.0001199566395371221,\n",
       "    'insult': 0.00020681707246694714,\n",
       "    'obscene': 0.00015815698134247214,\n",
       "    'severe_toxic': 0.00010731395013863221,\n",
       "    'threat': 7.997886859811842e-05,\n",
       "    'toxic': 0.00043121655471622944}}},\n",
       " {'user_id': 279697896,\n",
       "  'user_name': 'JJ 「cιtιƶεɳƒιvε」 🏴\\u200d☠️',\n",
       "  'tweet': \"RT @KearnsGillian: If you read nothing else about autism just read this - it's excellent &amp; so important to get an understanding of neurodiv…\",\n",
       "  'tweet_id': '1125946078518501376',\n",
       "  'bert_output': {'results': {'identity_hate': 0.00015050267393235117,\n",
       "    'insult': 0.00019939994672313333,\n",
       "    'obscene': 0.00014582739095203578,\n",
       "    'severe_toxic': 0.0001311514206463471,\n",
       "    'threat': 0.00010746785847004503,\n",
       "    'toxic': 0.00033722323132678866}}},\n",
       " {'user_id': 87829185,\n",
       "  'user_name': 'B. Miller',\n",
       "  'tweet': 'How do the Blues have like ten banners up in the rafters when they’ve never won anything.',\n",
       "  'tweet_id': '1125945995618074624',\n",
       "  'bert_output': {'results': {'identity_hate': 0.00012221747601870447,\n",
       "    'insult': 0.0002625850902404636,\n",
       "    'obscene': 0.00023160669661592692,\n",
       "    'severe_toxic': 9.59678873186931e-05,\n",
       "    'threat': 7.134869520086795e-05,\n",
       "    'toxic': 0.00098437222186476}}},\n",
       " {'user_id': 16298441,\n",
       "  'user_name': 'wint',\n",
       "  'tweet': 'https://t.co/l2Y2PEa0IA',\n",
       "  'tweet_id': '1125944927135735809',\n",
       "  'bert_output': {'results': {'identity_hate': 0.00020914434571750462,\n",
       "    'insult': 0.00035679712891578674,\n",
       "    'obscene': 0.0002459500974509865,\n",
       "    'severe_toxic': 0.00013286672765389085,\n",
       "    'threat': 0.00015687702398281544,\n",
       "    'toxic': 0.0006604052614420652}}},\n",
       " {'user_id': 47410791,\n",
       "  'user_name': 'jordan pickett',\n",
       "  'tweet': 'https://t.co/6Pkw53IPkW',\n",
       "  'tweet_id': '1125944845498048512',\n",
       "  'bert_output': {'results': {'identity_hate': 0.00020914434571750462,\n",
       "    'insult': 0.00035679712891578674,\n",
       "    'obscene': 0.0002459500974509865,\n",
       "    'severe_toxic': 0.00013286672765389085,\n",
       "    'threat': 0.00015687702398281544,\n",
       "    'toxic': 0.0006604052614420652}}},\n",
       " {'user_id': 47410791,\n",
       "  'user_name': 'jordan pickett',\n",
       "  'tweet': 'Heterotopia ATL —&gt; IST —&gt; ATH https://t.co/vl09VlK9nx',\n",
       "  'tweet_id': '1125943769503813632',\n",
       "  'bert_output': {'results': {'identity_hate': 0.00015605003864038736,\n",
       "    'insult': 0.00020602508448064327,\n",
       "    'obscene': 0.00017892745381686836,\n",
       "    'severe_toxic': 0.00013396602298598737,\n",
       "    'threat': 0.00011358941992511973,\n",
       "    'toxic': 0.000388165470212698}}},\n",
       " {'user_id': 87829185,\n",
       "  'user_name': 'B. Miller',\n",
       "  'tweet': 'Embiid had his head down after that Kawhi dunk and a thought bubble over it just imagining twitter.',\n",
       "  'tweet_id': '1125943350291570694',\n",
       "  'bert_output': {'results': {'identity_hate': 0.00011544137669261545,\n",
       "    'insult': 0.0003011608205270022,\n",
       "    'obscene': 0.00028213224140927196,\n",
       "    'severe_toxic': 0.00011152167280670255,\n",
       "    'threat': 6.80929224472493e-05,\n",
       "    'toxic': 0.0009616329334676266}}},\n",
       " {'user_id': 177328693,\n",
       "  'user_name': 'Kansas City Improv',\n",
       "  'tweet': 'RT @MarlonWayans: KANSAS CITY! Come see me LIVE, May 10-11 at the IMPROV! GET TIX NOW! \\n\\nhttps://t.co/p4wfgSdfRo https://t.co/tV3sq21XUM',\n",
       "  'tweet_id': '1125943251977027584',\n",
       "  'bert_output': {'results': {'identity_hate': 0.00012442476872820407,\n",
       "    'insult': 0.00022744658053852618,\n",
       "    'obscene': 0.00020603137090802193,\n",
       "    'severe_toxic': 0.00011518649262143299,\n",
       "    'threat': 7.931475556688383e-05,\n",
       "    'toxic': 0.0005573871312662959}}},\n",
       " {'user_id': 3765572533,\n",
       "  'user_name': 'Dr Shawn Baker \\U0001f969',\n",
       "  'tweet': 'Is it all hype or is there some real benefit? I don’t know but thanks to the folks from joovvsocial I’m going to find out! What’s been the collective experience so far? I’m hearing about… https://t.co/DAX5lmHz0i',\n",
       "  'tweet_id': '1125942790351802368',\n",
       "  'bert_output': {'results': {'identity_hate': 0.00013158685760572553,\n",
       "    'insult': 0.00020034749468322843,\n",
       "    'obscene': 0.00016884133219718933,\n",
       "    'severe_toxic': 0.0001257659896509722,\n",
       "    'threat': 9.29441666812636e-05,\n",
       "    'toxic': 0.00035399702028371394}}},\n",
       " {'user_id': 20178419,\n",
       "  'user_name': 'Charlie Warzel',\n",
       "  'tweet': 'Wanted to share this from a reader who fought to bring broadband internet to her rural area. Privacy fears have her questioning the promise of the technology in the first place. \\nhttps://t.co/rQFAzedSsy https://t.co/sWQ4tVR0nL',\n",
       "  'tweet_id': '1125942774870626304',\n",
       "  'bert_output': {'results': {'identity_hate': 0.00014293211279436946,\n",
       "    'insult': 0.00020261162717361003,\n",
       "    'obscene': 0.00015373028873000294,\n",
       "    'severe_toxic': 0.00013324874453246593,\n",
       "    'threat': 0.00010578848741715774,\n",
       "    'toxic': 0.00031644446426071227}}},\n",
       " {'user_id': 858716964,\n",
       "  'user_name': 'PFTCommenter',\n",
       "  'tweet': 'Very unfootball guy move by Dabo to be in canada. Guarentee u Saban dosent even know what a passport is',\n",
       "  'tweet_id': '1125941726739406848',\n",
       "  'bert_output': {'results': {'identity_hate': 9.91309862001799e-05,\n",
       "    'insult': 0.00024265862884931266,\n",
       "    'obscene': 0.0002427479630568996,\n",
       "    'severe_toxic': 9.135981963481754e-05,\n",
       "    'threat': 5.7972181821241975e-05,\n",
       "    'toxic': 0.0008805064135231078}}}]"
      ]
     },
     "execution_count": 57,
     "metadata": {},
     "output_type": "execute_result"
    }
   ],
   "source": [
    "[r2[i][\"tweet\"] for i in range(len(r2))]"
   ]
  },
  {
   "cell_type": "code",
   "execution_count": null,
   "metadata": {},
   "outputs": [],
   "source": []
  }
 ],
 "metadata": {
  "kernelspec": {
   "display_name": "Python 3",
   "language": "python",
   "name": "python3"
  },
  "language_info": {
   "codemirror_mode": {
    "name": "ipython",
    "version": 3
   },
   "file_extension": ".py",
   "mimetype": "text/x-python",
   "name": "python",
   "nbconvert_exporter": "python",
   "pygments_lexer": "ipython3",
   "version": "3.6.5"
  }
 },
 "nbformat": 4,
 "nbformat_minor": 2
}
